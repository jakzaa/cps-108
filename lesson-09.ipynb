{
 "cells": [
  {
   "cell_type": "markdown",
   "metadata": {},
   "source": [
    "# Lesson 9\n",
    "\n",
    "Let’s practice the basic skills necessary for screen scraping!"
   ]
  },
  {
   "cell_type": "code",
   "execution_count": 2,
   "metadata": {},
   "outputs": [
    {
     "output_type": "stream",
     "name": "stdout",
     "text": [
      "\u001b[32m┌─────────────────────┐\n│ Welcome to lesson 9 │\n└─────────────────────┘\u001b[0m"
     ]
    }
   ],
   "source": [
    "from course_engine import start_lesson\n",
    "start_lesson(9)\n"
   ]
  },
  {
   "cell_type": "markdown",
   "metadata": {},
   "source": [
    "**Exercise 1.** In your `Data/` directory is an excerpt\n",
    "from the 2020–2021 Bluffton University golf schedule web page.\n",
    "If you want to see the original page, it lives at:\n",
    "\n",
    "<https://blufftonbeavers.com/sports/mgolf/2020-21/schedule>\n",
    "\n",
    "Here is a sample script that visits every line in the file,\n",
    "removes any extra whitespace at the ends,\n",
    "and prints the “repr” of every line:\n",
    "\n",
    "    f = open('Data/golf-excerpt.html')\n",
    "    for line in f:\n",
    "        line = line.strip()\n",
    "        print(repr(line))\n",
    "\n",
    "Let’s start with something simple\n",
    "before diving into string parsing.\n",
    "By modifying this example,\n",
    "create a short program\n",
    "that prints out the number of lines in `Data/golf-excerpt.html`."
   ]
  },
  {
   "cell_type": "code",
   "execution_count": 4,
   "metadata": {
    "checks": "",
    "exercise_number": 1,
    "expected": "274\n"
   },
   "outputs": [
    {
     "output_type": "execute_result",
     "data": {
      "text/plain": [
       "<IPython.core.display.HTML object>"
      ],
      "text/html": "<pre><span class=\"ansi-red-bg ansi-bold\" style=\"background-color: #800;font-weight: bold\">&#39;&lt;div class=&#34;schedule-content clearfix&#34;&gt;&#39;</span>\n<span class=\"ansi-red-bg ansi-bold\" style=\"background-color: #800;font-weight: bold\">&#39;&lt;table&gt;&#39;\n&#39;&lt;tr&gt;&#39;\n&#39;&lt;th&gt;Date&lt;/th&gt;&#39;\n&#39;&lt;th&gt;Event&lt;/th&gt;&#39;\n&#39;&lt;th&gt;Notes&lt;/th&gt;&#39;\n&#39;&lt;th&gt;Time&lt;/th&gt;&#39;\n&#39;&lt;th&gt;Results&lt;/th&gt;&#39;\n&#39;&lt;th&gt;Links&lt;/th&gt;&#39;\n&#39;&lt;/tr&gt;&#39;\n&#39;&lt;tr class=&#34;month-sep&#34;&gt;&lt;td colspan=&#34;6&#34;&gt;&amp;nbsp;&lt;/td&gt;&lt;/tr&gt; &lt;tr class=&#34;month-title&#34;&gt;&lt;td colspan=&#34;6&#34;&gt;September&lt;/td&gt;&lt;/tr&gt;&#39;\n&#39;&lt;tr class=&#34;odd&#34; &gt;&#39;\n&#39;&lt;td class=&#34;e_date&#34;&gt; Thu. 3 &lt;/td&gt;&#39;\n&#39;&lt;td class=&#34;e_team e_awayteam&#34;&gt;&#39;\n&#39;&lt;span class=&#34;e_teamname&#34; title=&#34;Tiffin University at Mohawk CC&#34;&gt;Tiffin University at Mohawk CC&lt;/span&gt;&#39;\n&#39;&lt;/td&gt;&#39;\n&#39;&lt;td class=&#34;e_notes&#34;&gt; &lt;/td&gt;&#39;\n&#39;&lt;td class=&#34;e_status&#34;&gt;&#39;\n&#39;Final&#39;\n&#39;&lt;/td&gt;&#39;\n&#39;&lt;td class=&#34;e_result&#34;&gt;&#39;\n&#39;Results&#39;\n&#39;&lt;/td&gt;&#39;\n&#39;&lt;td class=&#34;e_links&#34;&gt;&#39;\n&#39;&lt;a aria-label=&#34;Men\\&#39;s Golf event: September 3 12:00 AM: Tiffin University at Mohawk CC: Recap&#34;&#39;\n&#39;href=&#34;/sports/mgolf/2020-21/releases/20200903tttfxl&#34; class=&#34;e_link e_link_rc&#34; &gt;&#39;\n&#39;&lt;span class=&#34;text&#34;&gt;Recap&lt;/span&gt;&#39;\n&#39;&lt;/a&gt;&#39;\n&#39;&lt;span class=&#34;sep&#34;&gt; | &lt;/span&gt;&#39;\n&#39;&lt;a aria-label=&#34;Men\\&#39;s Golf event: September 3 12:00 AM: Tiffin University at Mohawk CC: Box Score&#34;&#39;\n&#39;href=&#34;/sports/mgolf/2020-21/files/tiffin.htm&#34; class=&#34;e_link e_link_bs&#34; &gt;&#39;\n&#39;&lt;span class=&#34;text&#34;&gt;Box Score&lt;/span&gt;&#39;\n&#39;&lt;/a&gt;&#39;\n&#39;&lt;/td&gt;&#39;\n&#39;&lt;/tr&gt;&#39;\n&#39;&lt;tr class=&#34;even&#34; &gt;&#39;\n&#39;&lt;td class=&#34;e_date&#34;&gt; Wed. 9 &lt;/td&gt;&#39;\n&#39;&lt;td class=&#34;e_team e_awayteam&#34;&gt;&#39;\n&#39;&lt;span class=&#34;e_teamname&#34; title=&#34;Lourdes Fall Invitatonal at Legacy GC&#34;&gt;Lourdes Fall Invitatonal at Legacy GC&lt;/span&gt;&#39;\n&#39;&lt;/td&gt;&#39;\n&#39;&lt;td class=&#34;e_notes&#34;&gt; &lt;/td&gt;&#39;\n&#39;&lt;td class=&#34;e_status&#34;&gt;&#39;\n&#39;Final&#39;\n&#39;&lt;/td&gt;&#39;\n&#39;&lt;td class=&#34;e_result&#34;&gt;&#39;\n&#39;Results&#39;\n&#39;&lt;/td&gt;&#39;\n&#39;&lt;td class=&#34;e_links&#34;&gt;&#39;\n&#39;&lt;a aria-label=&#34;Men\\&#39;s Golf event: September 9 12:00 AM: Lourdes Fall Invitatonal at Legacy GC: Recap&#34;&#39;\n&#39;href=&#34;/sports/mgolf/2020-21/releases/20200909madss8&#34; class=&#34;e_link e_link_rc&#34; &gt;&#39;\n&#39;&lt;span class=&#34;text&#34;&gt;Recap&lt;/span&gt;&#39;\n&#39;&lt;/a&gt;&#39;\n&#39;&lt;span class=&#34;sep&#34;&gt; | &lt;/span&gt;&#39;\n&#39;&lt;a aria-label=&#34;Men\\&#39;s Golf event: September 9 12:00 AM: Lourdes Fall Invitatonal at Legacy GC: Results&#34;&#39;\n&#39;href=&#34;/sports/mgolf/2020-21/files/luinvm.htm&#34; class=&#34;e_link e_link_re&#34; &gt;&#39;\n&#39;&lt;span class=&#34;text&#34;&gt;Results&lt;/span&gt;&#39;\n&#39;&lt;/a&gt;&#39;\n&#39;&lt;span class=&#34;sep&#34;&gt; | &lt;/span&gt;&#39;\n&#39;&lt;a aria-label=&#34;Men\\&#39;s Golf event: September 9 12:00 AM: Lourdes Fall Invitatonal at Legacy GC: Photos&#34;&#39;\n&#39;href=&#34;/sports/mgolf/2020-21/photos/lourdes/index&#34; class=&#34;e_link e_link_ga&#34; &gt;&#39;\n&#39;&lt;span class=&#34;text&#34;&gt;Photos&lt;/span&gt;&#39;\n&#39;&lt;/a&gt;&#39;\n&#39;&lt;/td&gt;&#39;\n&#39;&lt;/tr&gt;&#39;\n&#39;&lt;tr class=&#34;odd&#34; &gt;&#39;\n&#39;&lt;td class=&#34;e_date&#34;&gt; Fri. 18 &lt;/td&gt;&#39;\n&#39;&lt;td class=&#34;e_team e_awayteam&#34;&gt;&#39;\n&#39;&lt;span class=&#34;e_teamname&#34; title=&#34;Irish Hills Intercollegiate at The Grande GC (Jackson, MI)&#34;&gt;Irish Hills Intercollegiate at The Grande GC (Jackson, MI)&lt;/span&gt;&#39;\n&#39;&lt;/td&gt;&#39;\n&#39;&lt;td class=&#34;e_notes&#34;&gt; &lt;/td&gt;&#39;\n&#39;&lt;td class=&#34;e_status&#34;&gt;&#39;\n&#39;Final&#39;\n&#39;&lt;/td&gt;&#39;\n&#39;&lt;td class=&#34;e_result&#34;&gt;&#39;\n&#39;Results&#39;\n&#39;&lt;/td&gt;&#39;\n&#39;&lt;td class=&#34;e_links&#34;&gt;&#39;\n&#39;&lt;a aria-label=&#34;Men\\&#39;s Golf event: September 18 12:00 AM: Irish Hills Intercollegiate at The Grande GC (Jackson, MI): Recap&#34;&#39;\n&#39;href=&#34;/sports/mgolf/2020-21/releases/20200918ut19bx&#34; class=&#34;e_link e_link_rc&#34; &gt;&#39;\n&#39;&lt;span class=&#34;text&#34;&gt;Recap&lt;/span&gt;&#39;\n&#39;&lt;/a&gt;&#39;\n&#39;&lt;span class=&#34;sep&#34;&gt; | &lt;/span&gt;&#39;\n&#39;&lt;a aria-label=&#34;Men\\&#39;s Golf event: September 18 12:00 AM: Irish Hills Intercollegiate at The Grande GC (Jackson, MI): Results&#34;&#39;\n&#39;href=&#34;/sports/mgolf/2020-21/files/irish.htm&#34; class=&#34;e_link e_link_re&#34; &gt;&#39;\n&#39;&lt;span class=&#34;text&#34;&gt;Results&lt;/span&gt;&#39;\n&#39;&lt;/a&gt;&#39;\n&#39;&lt;/td&gt;&#39;\n&#39;&lt;/tr&gt;&#39;\n&#39;&lt;tr class=&#34;even&#34; &gt;&#39;\n&#39;&lt;td class=&#34;e_date&#34;&gt; Sat. 19 &lt;/td&gt;&#39;\n&#39;&lt;td class=&#34;e_team e_awayteam&#34;&gt;&#39;\n&#39;&lt;span class=&#34;e_teamname e_home&#34; title=&#34;Beaver Fall Classic at Bluffton GC&#34;&gt;Beaver Fall Classic at Bluffton GC&lt;/span&gt;&#39;\n&#39;&lt;/td&gt;&#39;\n&#39;&lt;td class=&#34;e_notes&#34;&gt; &lt;/td&gt;&#39;\n&#39;&lt;td class=&#34;e_status&#34;&gt;&#39;\n&#39;Final&#39;\n&#39;&lt;/td&gt;&#39;\n&#39;&lt;td class=&#34;e_result&#34;&gt;&#39;\n&#39;Results&#39;\n&#39;&lt;/td&gt;&#39;\n&#39;&lt;td class=&#34;e_links&#34;&gt;&#39;\n&#39;&lt;a aria-label=&#34;Men\\&#39;s Golf event: September 19 12:00 AM: Beaver Fall Classic at Bluffton GC: Recap&#34;&#39;\n&#39;href=&#34;/sports/mgolf/2020-21/releases/20200919q4u1xt&#34; class=&#34;e_link e_link_rc&#34; &gt;&#39;\n&#39;&lt;span class=&#34;text&#34;&gt;Recap&lt;/span&gt;&#39;\n&#39;&lt;/a&gt;&#39;\n&#39;&lt;span class=&#34;sep&#34;&gt; | &lt;/span&gt;&#39;\n&#39;&lt;a aria-label=&#34;Men\\&#39;s Golf event: September 19 12:00 AM: Beaver Fall Classic at Bluffton GC: Box Score&#34;&#39;\n&#39;href=&#34;/sports/mgolf/2020-21/files/0919beavermen.pdf&#34; class=&#34;e_link e_link_bs&#34; &gt;&#39;\n&#39;&lt;span class=&#34;text&#34;&gt;Box Score&lt;/span&gt;&#39;\n&#39;&lt;/a&gt;&#39;\n&#39;&lt;span class=&#34;sep&#34;&gt; | &lt;/span&gt;&#39;\n&#39;&lt;a aria-label=&#34;Men\\&#39;s Golf event: September 19 12:00 AM: Beaver Fall Classic at Bluffton GC: Results&#34;&#39;\n&#39;href=&#34;/sports/mgolf/2020-21/files/golf.htm&#34; class=&#34;e_link e_link_re&#34; &gt;&#39;\n&#39;&lt;span class=&#34;text&#34;&gt;Results&lt;/span&gt;&#39;\n&#39;&lt;/a&gt;&#39;\n&#39;&lt;span class=&#34;sep&#34;&gt; | &lt;/span&gt;&#39;\n&#39;&lt;a aria-label=&#34;Men\\&#39;s Golf event: September 19 12:00 AM: Beaver Fall Classic at Bluffton GC: Photos&#34;&#39;\n&#39;href=&#34;/sports/mgolf/2020-21/photos/classic/index&#34; class=&#34;e_link e_link_ga&#34; &gt;&#39;\n&#39;&lt;span class=&#34;text&#34;&gt;Photos&lt;/span&gt;&#39;\n&#39;&lt;/a&gt;&#39;\n&#39;&lt;/td&gt;&#39;\n&#39;&lt;/tr&gt;&#39;\n&#39;&lt;tr class=&#34;odd&#34; &gt;&#39;\n&#39;&lt;td class=&#34;e_date&#34;&gt; Sun. 20 &lt;/td&gt;&#39;\n&#39;&lt;td class=&#34;e_team e_awayteam&#34;&gt;&#39;\n&#39;&lt;span class=&#34;e_teamname e_home&#34; title=&#34;Beaver Fall Classic at Hidden Creek GC&#34;&gt;Beaver Fall Classic at Hidden Creek GC&lt;/span&gt;&#39;\n&#39;&lt;/td&gt;&#39;\n&#39;&lt;td class=&#34;e_notes&#34;&gt; &lt;/td&gt;&#39;\n&#39;&lt;td class=&#34;e_status&#34;&gt;&#39;\n&#39;Final&#39;\n&#39;&lt;/td&gt;&#39;\n&#39;&lt;td class=&#34;e_result&#34;&gt;&#39;\n&#39;Results&#39;\n&#39;&lt;/td&gt;&#39;\n&#39;&lt;td class=&#34;e_links&#34;&gt;&#39;\n&#39;&lt;a aria-label=&#34;Men\\&#39;s Golf event: September 20 12:00 AM: Beaver Fall Classic at Hidden Creek GC: Recap&#34;&#39;\n&#39;href=&#34;/sports/mgolf/2020-21/releases/20200920u4v4fp&#34; class=&#34;e_link e_link_rc&#34; &gt;&#39;\n&#39;&lt;span class=&#34;text&#34;&gt;Recap&lt;/span&gt;&#39;\n&#39;&lt;/a&gt;&#39;\n&#39;&lt;span class=&#34;sep&#34;&gt; | &lt;/span&gt;&#39;\n&#39;&lt;a aria-label=&#34;Men\\&#39;s Golf event: September 20 12:00 AM: Beaver Fall Classic at Hidden Creek GC: Results&#34;&#39;\n&#39;href=&#34;/sports/mgolf/2020-21/files/beaver.htm&#34; class=&#34;e_link e_link_re&#34; &gt;&#39;\n&#39;&lt;span class=&#34;text&#34;&gt;Results&lt;/span&gt;&#39;\n&#39;&lt;/a&gt;&#39;\n&#39;&lt;/td&gt;&#39;\n&#39;&lt;/tr&gt;&#39;\n&#39;&lt;tr class=&#34;even&#34; &gt;&#39;\n&#39;&lt;td class=&#34;e_date&#34;&gt; Sat. 26 &lt;/td&gt;&#39;\n&#39;&lt;td class=&#34;e_team e_awayteam&#34;&gt;&#39;\n&#39;&lt;span class=&#34;e_teamname&#34; title=&#34;Olivet College Invitational #1 at Forest Akers West (East Lansing, MI)&#34;&gt;Olivet College Invitational #1 at Forest Akers West (East Lansing, MI)&lt;/span&gt;&#39;\n&#39;&lt;/td&gt;&#39;\n&#39;&lt;td class=&#34;e_notes&#34;&gt; &lt;/td&gt;&#39;\n&#39;&lt;td class=&#34;e_status&#34;&gt;&#39;\n&#39;Final&#39;\n&#39;&lt;/td&gt;&#39;\n&#39;&lt;td class=&#34;e_result&#34;&gt;&#39;\n&#39;Results&#39;\n&#39;&lt;/td&gt;&#39;\n&#39;&lt;td class=&#34;e_links&#34;&gt;&#39;\n&#39;&lt;a aria-label=&#34;Men\\&#39;s Golf event: September 26 12:00 AM: Olivet College Invitational #1 at Forest Akers West (East Lansing, MI): Recap&#34;&#39;\n&#39;href=&#34;/sports/mgolf/2020-21/releases/20200926u7zquj&#34; class=&#34;e_link e_link_rc&#34; &gt;&#39;\n&#39;&lt;span class=&#34;text&#34;&gt;Recap&lt;/span&gt;&#39;\n&#39;&lt;/a&gt;&#39;\n&#39;&lt;span class=&#34;sep&#34;&gt; | &lt;/span&gt;&#39;\n&#39;&lt;a aria-label=&#34;Men\\&#39;s Golf event: September 26 12:00 AM: Olivet College Invitational #1 at Forest Akers West (East Lansing, MI): Results&#34;&#39;\n&#39;href=&#34;/sports/mgolf/2020-21/files/olivet.htm&#34; class=&#34;e_link e_link_re&#34; &gt;&#39;\n&#39;&lt;span class=&#34;text&#34;&gt;Results&lt;/span&gt;&#39;\n&#39;&lt;/a&gt;&#39;\n&#39;&lt;/td&gt;&#39;\n&#39;&lt;/tr&gt;&#39;\n&#39;&lt;tr class=&#34;month-sep&#34;&gt;&lt;td colspan=&#34;6&#34;&gt;&amp;nbsp;&lt;/td&gt;&lt;/tr&gt; &lt;tr class=&#34;month-title&#34;&gt;&lt;td colspan=&#34;6&#34;&gt;October&lt;/td&gt;&lt;/tr&gt;&#39;\n&#39;&lt;tr class=&#34;odd&#34; &gt;&#39;\n&#39;&lt;td class=&#34;e_date&#34;&gt; Sat. 3 &lt;/td&gt;&#39;\n&#39;&lt;td class=&#34;e_team e_awayteam&#34;&gt;&#39;\n&#39;&lt;span class=&#34;e_teamname&#34; title=&#34;Trine University at Zollner GC&#34;&gt;Trine University at Zollner GC&lt;/span&gt;&#39;\n&#39;&lt;/td&gt;&#39;\n&#39;&lt;td class=&#34;e_notes&#34;&gt; &lt;/td&gt;&#39;\n&#39;&lt;td class=&#34;e_status&#34;&gt;&#39;\n&#39;Final&#39;\n&#39;&lt;/td&gt;&#39;\n&#39;&lt;td class=&#34;e_result&#34;&gt;&#39;\n&#39;Results&#39;\n&#39;&lt;/td&gt;&#39;\n&#39;&lt;td class=&#34;e_links&#34;&gt;&#39;\n&#39;&lt;a aria-label=&#34;Men\\&#39;s Golf event: October 3 12:00 AM: Trine University at Zollner GC: Recap&#34;&#39;\n&#39;href=&#34;/sports/mgolf/2020-21/releases/20201003wqjpu7&#34; class=&#34;e_link e_link_rc&#34; &gt;&#39;\n&#39;&lt;span class=&#34;text&#34;&gt;Recap&lt;/span&gt;&#39;\n&#39;&lt;/a&gt;&#39;\n&#39;&lt;span class=&#34;sep&#34;&gt; | &lt;/span&gt;&#39;\n&#39;&lt;a aria-label=&#34;Men\\&#39;s Golf event: October 3 12:00 AM: Trine University at Zollner GC: Box Score&#34;&#39;\n&#39;href=&#34;/sports/mgolf/2020-21/files/1003trinemg.pdf&#34; class=&#34;e_link e_link_bs&#34; &gt;&#39;\n&#39;&lt;span class=&#34;text&#34;&gt;Box Score&lt;/span&gt;&#39;\n&#39;&lt;/a&gt;&#39;\n&#39;&lt;span class=&#34;sep&#34;&gt; | &lt;/span&gt;&#39;\n&#39;&lt;a aria-label=&#34;Men\\&#39;s Golf event: October 3 12:00 AM: Trine University at Zollner GC: Results&#34;&#39;\n&#39;href=&#34;/sports/mgolf/2020-21/files/tourn05.htm&#34; class=&#34;e_link e_link_re&#34; &gt;&#39;\n&#39;&lt;span class=&#34;text&#34;&gt;Results&lt;/span&gt;&#39;\n&#39;&lt;/a&gt;&#39;\n&#39;&lt;/td&gt;&#39;\n&#39;&lt;/tr&gt;&#39;\n&#39;&lt;tr class=&#34;even&#34; &gt;&#39;\n&#39;&lt;td class=&#34;e_date&#34;&gt; Mon. 5 &lt;/td&gt;&#39;\n&#39;&lt;td class=&#34;e_team e_awayteam&#34;&gt;&#39;\n&#39;&lt;span class=&#34;e_teamname&#34; title=&#34;Kyle Ryman Memorial at Mohawk CC&#34;&gt;Kyle Ryman Memorial at Mohawk CC&lt;/span&gt;&#39;\n&#39;&lt;/td&gt;&#39;\n&#39;&lt;td class=&#34;e_notes&#34;&gt; &lt;/td&gt;&#39;\n&#39;&lt;td class=&#34;e_status&#34;&gt;&#39;\n&#39;Final&#39;\n&#39;&lt;/td&gt;&#39;\n&#39;&lt;td class=&#34;e_result&#34;&gt;&#39;\n&#39;Results&#39;\n&#39;&lt;/td&gt;&#39;\n&#39;&lt;td class=&#34;e_links&#34;&gt;&#39;\n&#39;&lt;a aria-label=&#34;Men\\&#39;s Golf event: October 5 12:00 AM: Kyle Ryman Memorial at Mohawk CC: Recap&#34;&#39;\n&#39;href=&#34;/sports/mgolf/2020-21/releases/20201005vzpb3q&#34; class=&#34;e_link e_link_rc&#34; &gt;&#39;\n&#39;&lt;span class=&#34;text&#34;&gt;Recap&lt;/span&gt;&#39;\n&#39;&lt;/a&gt;&#39;\n&#39;&lt;span class=&#34;sep&#34;&gt; | &lt;/span&gt;&#39;\n&#39;&lt;a aria-label=&#34;Men\\&#39;s Golf event: October 5 12:00 AM: Kyle Ryman Memorial at Mohawk CC: Photos&#34;&#39;\n&#39;href=&#34;/sports/mgolf/2020-21/photos/tiffin/index&#34; class=&#34;e_link e_link_ga&#34; &gt;&#39;\n&#39;&lt;span class=&#34;text&#34;&gt;Photos&lt;/span&gt;&#39;\n&#39;&lt;/a&gt;&#39;\n&#39;&lt;/td&gt;&#39;\n&#39;&lt;/tr&gt;&#39;\n&#39;&lt;tr class=&#34;odd&#34; &gt;&#39;\n&#39;&lt;td class=&#34;e_date&#34;&gt; Tue. 6 &lt;/td&gt;&#39;\n&#39;&lt;td class=&#34;e_team e_awayteam&#34;&gt;&#39;\n&#39;&lt;span class=&#34;e_teamname&#34; title=&#34;Kyle Ryman Memorial at Mohawk CC&#34;&gt;Kyle Ryman Memorial at Mohawk CC&lt;/span&gt;&#39;\n&#39;&lt;/td&gt;&#39;\n&#39;&lt;td class=&#34;e_notes&#34;&gt; &lt;/td&gt;&#39;\n&#39;&lt;td class=&#34;e_status&#34;&gt;&#39;\n&#39;Final&#39;\n&#39;&lt;/td&gt;&#39;\n&#39;&lt;td class=&#34;e_result&#34;&gt;&#39;\n&#39;Results&#39;\n&#39;&lt;/td&gt;&#39;\n&#39;&lt;td class=&#34;e_links&#34;&gt;&#39;\n&#39;&lt;a aria-label=&#34;Men\\&#39;s Golf event: October 6 12:00 AM: Kyle Ryman Memorial at Mohawk CC: Recap&#34;&#39;\n&#39;href=&#34;/sports/mgolf/2020-21/releases/20201006ow3t1z&#34; class=&#34;e_link e_link_rc&#34; &gt;&#39;\n&#39;&lt;span class=&#34;text&#34;&gt;Recap&lt;/span&gt;&#39;\n&#39;&lt;/a&gt;&#39;\n&#39;&lt;span class=&#34;sep&#34;&gt; | &lt;/span&gt;&#39;\n&#39;&lt;a aria-label=&#34;Men\\&#39;s Golf event: October 6 12:00 AM: Kyle Ryman Memorial at Mohawk CC: Results&#34;&#39;\n&#39;href=&#34;/sports/mgolf/2020-21/files/ryman.htm&#34; class=&#34;e_link e_link_re&#34; &gt;&#39;\n&#39;&lt;span class=&#34;text&#34;&gt;Results&lt;/span&gt;&#39;\n&#39;&lt;/a&gt;&#39;\n&#39;&lt;/td&gt;&#39;\n&#39;&lt;/tr&gt;&#39;\n&#39;&lt;tr class=&#34;even&#34; &gt;&#39;\n&#39;&lt;td class=&#34;e_date&#34;&gt; Mon. 12 &lt;/td&gt;&#39;\n&#39;&lt;td class=&#34;e_team e_awayteam&#34;&gt;&#39;\n&#39;&lt;span class=&#34;e_teamname&#34; title=&#34;Lourdes Fall Invitatonal at Sylvania CC&#34;&gt;Lourdes Fall Invitatonal at Sylvania CC&lt;/span&gt;&#39;\n&#39;&lt;/td&gt;&#39;\n&#39;&lt;td class=&#34;e_notes&#34;&gt; &lt;/td&gt;&#39;\n&#39;&lt;td class=&#34;e_status&#34;&gt;&#39;\n&#39;Final&#39;\n&#39;&lt;/td&gt;&#39;\n&#39;&lt;td class=&#34;e_result&#34;&gt;&#39;\n&#39;Results&#39;\n&#39;&lt;/td&gt;&#39;\n&#39;&lt;td class=&#34;e_links&#34;&gt;&#39;\n&#39;&lt;a aria-label=&#34;Men\\&#39;s Golf event: October 12 12:00 AM: Lourdes Fall Invitatonal at Sylvania CC: Recap&#34;&#39;\n&#39;href=&#34;/sports/mgolf/2020-21/releases/20201012oznac5&#34; class=&#34;e_link e_link_rc&#34; &gt;&#39;\n&#39;&lt;span class=&#34;text&#34;&gt;Recap&lt;/span&gt;&#39;\n&#39;&lt;/a&gt;&#39;\n&#39;&lt;span class=&#34;sep&#34;&gt; | &lt;/span&gt;&#39;\n&#39;&lt;a aria-label=&#34;Men\\&#39;s Golf event: October 12 12:00 AM: Lourdes Fall Invitatonal at Sylvania CC: Results&#34;&#39;\n&#39;href=&#34;/sports/mgolf/2020-21/files/wolfm.htm&#34; class=&#34;e_link e_link_re&#34; &gt;&#39;\n&#39;&lt;span class=&#34;text&#34;&gt;Results&lt;/span&gt;&#39;\n&#39;&lt;/a&gt;&#39;\n&#39;&lt;/td&gt;&#39;\n&#39;&lt;/tr&gt;&#39;\n&#39;&lt;/table&gt;&#39;\n&#39;&lt;/div&gt;&#39;\n</span>\n<span class=\"ansi-red-fg\" style=\"color: red\">┌──────────────────────────────────┐\n│ Your output does not quite match │\n│ what the exercise is expecting:  │\n└──────────────────────────────────┘</span>\n<span class=\"ansi-green-bg ansi-bold\" style=\"background-color: #080;font-weight: bold\">274</span>\n\n</pre>"
     },
     "metadata": {},
     "execution_count": 4
    }
   ],
   "source": [
    "# Exercise 1\n",
    "\n",
    "f = open('Data/golf-excerpt.html')\n",
    "for line in f:\n",
    "     line = line.strip()\n",
    "     print(repr(line))"
   ]
  },
  {
   "cell_type": "markdown",
   "metadata": {},
   "source": [
    "**Exercise 2.** Here is a new operator you might not have seen before:\n",
    "you can use “in” to check\n",
    "whether a little string is contained somewhere inside a big string.\n",
    "\n",
    "    for animal in 'Bison', 'Orca', 'Missouri mule':\n",
    "        if 'so' in animal:\n",
    "            print(animal)\n",
    "\n",
    "This prints out both `Bison` and `Missouri mule`\n",
    "because they both have the adjacent letters `so` inside,\n",
    "but skips and does not print `Orca`.\n",
    "\n",
    "Using this new operator,\n",
    "print out all of the lines in `Data/golf-excerpt.html`\n",
    "that have the string `e_teamname` inside."
   ]
  },
  {
   "cell_type": "code",
   "execution_count": null,
   "metadata": {
    "checks": "",
    "exercise_number": 2,
    "expected": "<span class=\"e_teamname\" title=\"Tiffin University at Mohawk CC\">Tiffin University at Mohawk CC</span>\n<span class=\"e_teamname\" title=\"Lourdes Fall Invitatonal at Legacy GC\">Lourdes Fall Invitatonal at Legacy GC</span>\n<span class=\"e_teamname\" title=\"Irish Hills Intercollegiate at The Grande GC (Jackson, MI)\">Irish Hills Intercollegiate at The Grande GC (Jackson, MI)</span>\n<span class=\"e_teamname e_home\" title=\"Beaver Fall Classic at Bluffton GC\">Beaver Fall Classic at Bluffton GC</span>\n<span class=\"e_teamname e_home\" title=\"Beaver Fall Classic at Hidden Creek GC\">Beaver Fall Classic at Hidden Creek GC</span>\n<span class=\"e_teamname\" title=\"Olivet College Invitational #1 at Forest Akers West (East Lansing, MI)\">Olivet College Invitational #1 at Forest Akers West (East Lansing, MI)</span>\n<span class=\"e_teamname\" title=\"Trine University at Zollner GC\">Trine University at Zollner GC</span>\n<span class=\"e_teamname\" title=\"Kyle Ryman Memorial at Mohawk CC\">Kyle Ryman Memorial at Mohawk CC</span>\n<span class=\"e_teamname\" title=\"Kyle Ryman Memorial at Mohawk CC\">Kyle Ryman Memorial at Mohawk CC</span>\n<span class=\"e_teamname\" title=\"Lourdes Fall Invitatonal at Sylvania CC\">Lourdes Fall Invitatonal at Sylvania CC</span>\n"
   },
   "outputs": [],
   "source": [
    "# Exercise 2\n",
    "\n"
   ]
  },
  {
   "cell_type": "markdown",
   "metadata": {},
   "source": [
    "**Exercise 3.** Print out a count of how many lines in `Data/golf-excerpt.html`\n",
    "have the string `e_teamname` inside."
   ]
  },
  {
   "cell_type": "code",
   "execution_count": null,
   "metadata": {
    "checks": "",
    "exercise_number": 3,
    "expected": "10\n"
   },
   "outputs": [],
   "source": [
    "# Exercise 3\n",
    "\n"
   ]
  },
  {
   "cell_type": "markdown",
   "metadata": {},
   "source": [
    "**Exercise 4.** Here is an example line from the file:\n",
    "\n",
    "    <span class=\"e_teamname\" title=\"Tiffin University at Mohawk CC\">Tiffin University at Mohawk CC</span>\n",
    "\n",
    "Give this string the name `line`,\n",
    "and use a series of `.split()` operations\n",
    "to pull the team name out of the line.\n",
    "Print the team name on a line by itself."
   ]
  },
  {
   "cell_type": "code",
   "execution_count": null,
   "metadata": {
    "checks": "",
    "exercise_number": 4,
    "expected": "Tiffin University at Mohawk CC\n"
   },
   "outputs": [],
   "source": [
    "# Exercise 4\n",
    "\n",
    "line = '<span class=\"e_teamname\" title=\"Tiffin University at Mohawk CC\">Tiffin University at Mohawk CC</span>'"
   ]
  },
  {
   "cell_type": "markdown",
   "metadata": {},
   "source": [
    "**Exercise 5.** Finally let’s put all these pieces together.\n",
    "Write a short script that visits every line of the file,\n",
    "and for lines that have the string `e_teamname` somewhere inside,\n",
    "extracts and prints the team.\n",
    "The result should be a list of all the teams mentioned in the file."
   ]
  },
  {
   "cell_type": "code",
   "execution_count": null,
   "metadata": {
    "checks": "",
    "exercise_number": 5,
    "expected": "Tiffin University at Mohawk CC\nLourdes Fall Invitatonal at Legacy GC\nIrish Hills Intercollegiate at The Grande GC (Jackson, MI)\nBeaver Fall Classic at Bluffton GC\nBeaver Fall Classic at Hidden Creek GC\nOlivet College Invitational #1 at Forest Akers West (East Lansing, MI)\nTrine University at Zollner GC\nKyle Ryman Memorial at Mohawk CC\nKyle Ryman Memorial at Mohawk CC\nLourdes Fall Invitatonal at Sylvania CC\n"
   },
   "outputs": [],
   "source": [
    "# Exercise 5\n",
    "\n"
   ]
  }
 ],
 "metadata": {
  "kernelspec": {
   "name": "Python 3.8.6 64-bit",
   "display_name": "Python 3.8.6 64-bit",
   "metadata": {
    "interpreter": {
     "hash": "1055211a01a199a6526f0d26b382149a8a94758ea3cbdda7adbe114d72853fd0"
    }
   }
  },
  "language_info": {
   "codemirror_mode": {
    "name": "ipython",
    "version": 3
   },
   "file_extension": ".py",
   "mimetype": "text/x-python",
   "name": "python",
   "nbconvert_exporter": "python",
   "pygments_lexer": "ipython3",
   "version": "3.8.6-final"
  }
 },
 "nbformat": 4,
 "nbformat_minor": 4
}