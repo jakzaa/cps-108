{
 "cells": [
  {
   "cell_type": "markdown",
   "metadata": {},
   "source": [
    "# Lesson 11\n",
    "\n",
    "Quiz 10 introduced you to Python’s `datetime` module and two of its types:\n",
    "the `date` type and the `timedelta` type.\n",
    "This lesson lets you practice those skills a bit more!\n",
    "You will need four things for this lesson.\n",
    "\n",
    "First, you need to know how to loop over a series of dates.\n",
    "Here are two approaches that we discussed on Wednesday.\n",
    "In both cases they loop over all of the days in the upcoming Spring Semester.\n",
    "This one uses a familiar `for` loop:\n",
    "\n",
    "    from datetime import date, timedelta\n",
    "\n",
    "    start = date(2021, 1, 20)\n",
    "    end = date(2021, 5, 6)\n",
    "\n",
    "    d = start\n",
    "    days = (end - start).days + 1\n",
    "    for i in range(days):\n",
    "        print(d)\n",
    "        d = d + timedelta(1)\n",
    "\n",
    "And this one takes the simpler but less familiar approach\n",
    "of using a `while` loop:\n",
    "\n",
    "    from datetime import date, timedelta\n",
    "\n",
    "    start = date(2021, 1, 20)\n",
    "    end = date(2021, 5, 6)\n",
    "\n",
    "    d = start\n",
    "    while d <= end:\n",
    "        print(d)\n",
    "        d = d + timedelta(1)\n",
    "\n",
    "The second thing you need to know is the range of class dates\n",
    "in Bluffton’s current Fall Semester:\n",
    "\n",
    "2020 August 17 — 2020 November 20\n",
    "\n",
    "Third and fourth, you will want to consult Python’s documentation\n",
    "about the date type, and about the date formatting placeholders:\n",
    "\n",
    "<https://docs.python.org/3/library/datetime.html#date-objects>\n",
    "\n",
    "<https://strftime.org/>\n",
    "\n",
    "Given all of that information,\n",
    "this lesson has you tackle three exercises!"
   ]
  },
  {
   "cell_type": "code",
   "execution_count": 3,
   "metadata": {},
   "outputs": [
    {
     "output_type": "stream",
     "name": "stdout",
     "text": [
      "\u001b[32m┌──────────────────────┐\n│ Welcome to lesson 11 │\n└──────────────────────┘\u001b[0m"
     ]
    }
   ],
   "source": [
    "from course_engine import start_lesson\n",
    "start_lesson(11)\n"
   ]
  },
  {
   "cell_type": "markdown",
   "metadata": {},
   "source": [
    "**Exercise 1.** Loop over all the dates in Bluffton’s Fall Semester 2020,\n",
    "printing only the dates that are Mondays."
   ]
  },
  {
   "cell_type": "code",
   "execution_count": 13,
   "metadata": {
    "checks": "",
    "exercise_number": 1,
    "expected": "2020-08-17\n2020-08-24\n2020-08-31\n2020-09-07\n2020-09-14\n2020-09-21\n2020-09-28\n2020-10-05\n2020-10-12\n2020-10-19\n2020-10-26\n2020-11-02\n2020-11-09\n2020-11-16\n"
   },
   "outputs": [
    {
     "output_type": "execute_result",
     "data": {
      "text/plain": [
       "<IPython.core.display.HTML object>"
      ],
      "text/html": "<pre><span class=\"ansi-yellow-fg\" style=\"color: #ff2\">┌──────────────────────────────────────┐\n│ Your script does not yet produce     │\n│ any output. Try adding some print()  │\n│ calls and then making sure they run. │\n└──────────────────────────────────────┘</span>\n</pre>"
     },
     "metadata": {},
     "execution_count": 13
    }
   ],
   "source": [
    "# Exercise 1\n",
    "from datetime import date, timedelta\n",
    "\n",
    "start = date(2020, 8, 17)\n",
    "end = date(2020, 11, 20)\n",
    "d = start\n",
    "while d == end:\n",
    "    print(d)\n",
    "    d = d + timedelta(7)\n",
    "\n",
    "\n",
    "\n"
   ]
  },
  {
   "cell_type": "markdown",
   "metadata": {},
   "source": [
    "**Exercise 2.** Loop over all the dates in Fall Semester 2020\n",
    "adding up how many are weekdays — are the days Monday through Friday.\n",
    "Print out the total number of weekdays in the semester."
   ]
  },
  {
   "cell_type": "code",
   "execution_count": 4,
   "metadata": {
    "checks": "",
    "exercise_number": 2,
    "expected": "70\n"
   },
   "outputs": [
    {
     "output_type": "execute_result",
     "data": {
      "text/plain": [
       "<IPython.core.display.HTML object>"
      ],
      "text/html": "<pre>70\n\n<span class=\"ansi-green-fg\" style=\"color: #4f4\">┌────────────────────────────────────────────┐\n│ </span><span class=\"ansi-green-fg\" style=\"color: #4f4\">✔ Your output looks correct</span><span class=\"ansi-green-fg\" style=\"color: #4f4\">                │\n│                                            │\n│ Good job! You have completed this exercise │\n└────────────────────────────────────────────┘</span>\n</pre>"
     },
     "metadata": {},
     "execution_count": 4
    }
   ],
   "source": [
    "# Exercise 2\n",
    "from datetime import date, timedelta\n",
    "\n",
    "start = date(2020, 8, 17)\n",
    "end = date(2020, 10,25)\n",
    "n = 0\n",
    "d = start\n",
    "days = (end - start).days + 1\n",
    "for l in range(days):\n",
    "    d = d + timedelta(1)\n",
    "    n = n + 1\n",
    "print(n)\n"
   ]
  },
  {
   "cell_type": "markdown",
   "metadata": {},
   "source": [
    "**Exercise 3.** Finally,\n",
    "let’s print out a simple semester calendar!\n",
    "Here is what a similar calendar for Spring Semester 2021 looks like,\n",
    "with each month name followed by the dates in the month\n",
    "that belong to the semester.\n",
    "As usual for a calendar,\n",
    "Sunday is the first column and Saturday is the last:\n",
    "\n",
    "    January\n",
    "             20 21 22 23\n",
    "    24 25 26 27 28 29 30\n",
    "    31\n",
    "\n",
    "    February\n",
    "       01 02 03 04 05 06\n",
    "    07 08 09 10 11 12 13\n",
    "    14 15 16 17 18 19 20\n",
    "    21 22 23 24 25 26 27\n",
    "    28\n",
    "\n",
    "    March\n",
    "       01 02 03 04 05 06\n",
    "    07 08 09 10 11 12 13\n",
    "    14 15 16 17 18 19 20\n",
    "    21 22 23 24 25 26 27\n",
    "    28 29 30 31\n",
    "\n",
    "    April\n",
    "                01 02 03\n",
    "    04 05 06 07 08 09 10\n",
    "    11 12 13 14 15 16 17\n",
    "    18 19 20 21 22 23 24\n",
    "    25 26 27 28 29 30\n",
    "\n",
    "    May\n",
    "                      01\n",
    "    02 03 04 05 06\n",
    "\n",
    "Your task is to write a program\n",
    "to print the same kind of calendar,\n",
    "with the same format,\n",
    "but for this current Fall semester,\n",
    "that runs from 2020 August 17 to 2020 November 20.\n",
    "\n",
    "This is probably the most complicated program you will write all semester —\n",
    "think of it as the closest thing you will get to a final!\n",
    "Take your time, take small steps towards a solution,\n",
    "and feel free to stop if you start getting frustrated\n",
    "and try again the next day."
   ]
  },
  {
   "cell_type": "code",
   "execution_count": 18,
   "metadata": {
    "checks": "",
    "exercise_number": 3,
    "expected": "August\n   17 18 19 20 21 22\n23 24 25 26 27 28 29\n30 31\n\nSeptember\n      01 02 03 04 05\n06 07 08 09 10 11 12\n13 14 15 16 17 18 19\n20 21 22 23 24 25 26\n27 28 29 30\n\nOctober\n            01 02 03\n04 05 06 07 08 09 10\n11 12 13 14 15 16 17\n18 19 20 21 22 23 24\n25 26 27 28 29 30 31\n\nNovember\n01 02 03 04 05 06 07\n08 09 10 11 12 13 14\n15 16 17 18 19 20"
   },
   "outputs": [
    {
     "output_type": "execute_result",
     "data": {
      "text/plain": [
       "<IPython.core.display.HTML object>"
      ],
      "text/html": "<pre>August\n 171819202122\n23242526272829\n3031\n\nSeptember\n  0102030405\n06070809101112\n13141516171819\n20212223242526\n27282930\n\nOctober\n    010203\n04050607080910\n11121314151617\n18192021222324\n25\n<span class=\"ansi-red-fg\" style=\"color: red\">┌──────────────────────────────────┐\n│ Your output does not quite match │\n│ what the exercise is expecting:  │\n└──────────────────────────────────┘</span>\nAugust\n <span class=\"ansi-green-bg ansi-bold\" style=\"background-color: #080;font-weight: bold\">  </span>17<span class=\"ansi-green-bg ansi-bold\" style=\"background-color: #080;font-weight: bold\"> </span>18<span class=\"ansi-green-bg ansi-bold\" style=\"background-color: #080;font-weight: bold\"> </span>19<span class=\"ansi-green-bg ansi-bold\" style=\"background-color: #080;font-weight: bold\"> </span>20<span class=\"ansi-green-bg ansi-bold\" style=\"background-color: #080;font-weight: bold\"> </span>21<span class=\"ansi-green-bg ansi-bold\" style=\"background-color: #080;font-weight: bold\"> </span>22\n23<span class=\"ansi-green-bg ansi-bold\" style=\"background-color: #080;font-weight: bold\"> </span>24<span class=\"ansi-green-bg ansi-bold\" style=\"background-color: #080;font-weight: bold\"> </span>25<span class=\"ansi-green-bg ansi-bold\" style=\"background-color: #080;font-weight: bold\"> </span>26<span class=\"ansi-green-bg ansi-bold\" style=\"background-color: #080;font-weight: bold\"> </span>27<span class=\"ansi-green-bg ansi-bold\" style=\"background-color: #080;font-weight: bold\"> </span>28<span class=\"ansi-green-bg ansi-bold\" style=\"background-color: #080;font-weight: bold\"> </span>29\n30<span class=\"ansi-green-bg ansi-bold\" style=\"background-color: #080;font-weight: bold\"> </span>31\n\nSeptember\n  <span class=\"ansi-green-bg ansi-bold\" style=\"background-color: #080;font-weight: bold\">    </span>01<span class=\"ansi-green-bg ansi-bold\" style=\"background-color: #080;font-weight: bold\"> </span>02<span class=\"ansi-green-bg ansi-bold\" style=\"background-color: #080;font-weight: bold\"> </span>03<span class=\"ansi-green-bg ansi-bold\" style=\"background-color: #080;font-weight: bold\"> </span>04<span class=\"ansi-green-bg ansi-bold\" style=\"background-color: #080;font-weight: bold\"> </span>05\n06<span class=\"ansi-green-bg ansi-bold\" style=\"background-color: #080;font-weight: bold\"> </span>07<span class=\"ansi-green-bg ansi-bold\" style=\"background-color: #080;font-weight: bold\"> </span>08<span class=\"ansi-green-bg ansi-bold\" style=\"background-color: #080;font-weight: bold\"> </span>09<span class=\"ansi-green-bg ansi-bold\" style=\"background-color: #080;font-weight: bold\"> </span>10<span class=\"ansi-green-bg ansi-bold\" style=\"background-color: #080;font-weight: bold\"> </span>11<span class=\"ansi-green-bg ansi-bold\" style=\"background-color: #080;font-weight: bold\"> </span>12\n13<span class=\"ansi-green-bg ansi-bold\" style=\"background-color: #080;font-weight: bold\"> </span>14<span class=\"ansi-green-bg ansi-bold\" style=\"background-color: #080;font-weight: bold\"> </span>15<span class=\"ansi-green-bg ansi-bold\" style=\"background-color: #080;font-weight: bold\"> </span>16<span class=\"ansi-green-bg ansi-bold\" style=\"background-color: #080;font-weight: bold\"> </span>17<span class=\"ansi-green-bg ansi-bold\" style=\"background-color: #080;font-weight: bold\"> </span>18<span class=\"ansi-green-bg ansi-bold\" style=\"background-color: #080;font-weight: bold\"> </span>19\n20<span class=\"ansi-green-bg ansi-bold\" style=\"background-color: #080;font-weight: bold\"> </span>21<span class=\"ansi-green-bg ansi-bold\" style=\"background-color: #080;font-weight: bold\"> </span>22<span class=\"ansi-green-bg ansi-bold\" style=\"background-color: #080;font-weight: bold\"> </span>23<span class=\"ansi-green-bg ansi-bold\" style=\"background-color: #080;font-weight: bold\"> </span>24<span class=\"ansi-green-bg ansi-bold\" style=\"background-color: #080;font-weight: bold\"> </span>25<span class=\"ansi-green-bg ansi-bold\" style=\"background-color: #080;font-weight: bold\"> </span>26\n27<span class=\"ansi-green-bg ansi-bold\" style=\"background-color: #080;font-weight: bold\"> </span>28<span class=\"ansi-green-bg ansi-bold\" style=\"background-color: #080;font-weight: bold\"> </span>29<span class=\"ansi-green-bg ansi-bold\" style=\"background-color: #080;font-weight: bold\"> </span>30\n\nOctober\n    <span class=\"ansi-green-bg ansi-bold\" style=\"background-color: #080;font-weight: bold\">        </span>01<span class=\"ansi-green-bg ansi-bold\" style=\"background-color: #080;font-weight: bold\"> </span>02<span class=\"ansi-green-bg ansi-bold\" style=\"background-color: #080;font-weight: bold\"> </span>03\n04<span class=\"ansi-green-bg ansi-bold\" style=\"background-color: #080;font-weight: bold\"> </span>05<span class=\"ansi-green-bg ansi-bold\" style=\"background-color: #080;font-weight: bold\"> </span>06<span class=\"ansi-green-bg ansi-bold\" style=\"background-color: #080;font-weight: bold\"> </span>07<span class=\"ansi-green-bg ansi-bold\" style=\"background-color: #080;font-weight: bold\"> </span>08<span class=\"ansi-green-bg ansi-bold\" style=\"background-color: #080;font-weight: bold\"> </span>09<span class=\"ansi-green-bg ansi-bold\" style=\"background-color: #080;font-weight: bold\"> </span>10\n11<span class=\"ansi-green-bg ansi-bold\" style=\"background-color: #080;font-weight: bold\"> </span>12<span class=\"ansi-green-bg ansi-bold\" style=\"background-color: #080;font-weight: bold\"> </span>13<span class=\"ansi-green-bg ansi-bold\" style=\"background-color: #080;font-weight: bold\"> </span>14<span class=\"ansi-green-bg ansi-bold\" style=\"background-color: #080;font-weight: bold\"> </span>15<span class=\"ansi-green-bg ansi-bold\" style=\"background-color: #080;font-weight: bold\"> </span>16<span class=\"ansi-green-bg ansi-bold\" style=\"background-color: #080;font-weight: bold\"> </span>17\n18<span class=\"ansi-green-bg ansi-bold\" style=\"background-color: #080;font-weight: bold\"> </span>19<span class=\"ansi-green-bg ansi-bold\" style=\"background-color: #080;font-weight: bold\"> </span>20<span class=\"ansi-green-bg ansi-bold\" style=\"background-color: #080;font-weight: bold\"> </span>21<span class=\"ansi-green-bg ansi-bold\" style=\"background-color: #080;font-weight: bold\"> </span>22<span class=\"ansi-green-bg ansi-bold\" style=\"background-color: #080;font-weight: bold\"> </span>23<span class=\"ansi-green-bg ansi-bold\" style=\"background-color: #080;font-weight: bold\"> </span>24\n25<span class=\"ansi-green-bg ansi-bold\" style=\"background-color: #080;font-weight: bold\"> 26 27 28 29 30 31\n\nNovember\n01 02 03 04 05 06 07\n08 09 10 11 12 13 14\n15 16 17 18 19 20</span>\n</pre>"
     },
     "metadata": {},
     "execution_count": 18
    }
   ],
   "source": [
    "# Exercise 3\n",
    "from datetime import date, timedelta\n",
    "\n",
    "start = date(2020, 8, 17)\n",
    "end = date(2020, 10,25)\n",
    "d = start \n",
    "prevMonth = 0\n",
    "days = (end - start).days + 1\n",
    "for i in range(days):\n",
    "    if d.month !=prevMonth:\n",
    "        print(d.strftime(\"%B\"))\n",
    "        monthOffset = d.isoweekday() % 7\n",
    "        for k in range(monthOffset):\n",
    "            print(end=' ')\n",
    "        prevMonth = d.month\n",
    "    lastInRow = d.isoweekday() % 6 == 0\n",
    "    LastDayInMonth = (timedelta(1) + d).month != d.month\n",
    "    if lastInRow or LastDayInMonth:\n",
    "        print(d.strftime(\"%d\"))\n",
    "    else:\n",
    "        print(d.strftime(\"%d\"), end = '')\n",
    "    if LastDayInMonth:\n",
    "        print()\n",
    "    d = d + timedelta(1)\n",
    "\n",
    "\n"
   ]
  },
  {
   "cell_type": "code",
   "execution_count": null,
   "metadata": {},
   "outputs": [],
   "source": []
  }
 ],
 "metadata": {
  "kernelspec": {
   "name": "python3",
   "display_name": "Python 3.8.6 64-bit",
   "metadata": {
    "interpreter": {
     "hash": "1055211a01a199a6526f0d26b382149a8a94758ea3cbdda7adbe114d72853fd0"
    }
   }
  },
  "language_info": {
   "codemirror_mode": {
    "name": "ipython",
    "version": 3
   },
   "file_extension": ".py",
   "mimetype": "text/x-python",
   "name": "python",
   "nbconvert_exporter": "python",
   "pygments_lexer": "ipython3",
   "version": "3.8.6-final"
  }
 },
 "nbformat": 4,
 "nbformat_minor": 4
}