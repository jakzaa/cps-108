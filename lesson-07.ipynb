{
 "cells": [
  {
   "cell_type": "markdown",
   "metadata": {},
   "source": [
    "# Lesson 7\n",
    "\n",
    "Welcome!\n",
    "This lesson lets you practice some of the maneuvers\n",
    "involving strings and quoting\n",
    "that you learned in class on Wednesday October 14."
   ]
  },
  {
   "cell_type": "code",
   "execution_count": 2,
   "metadata": {},
   "outputs": [
    {
     "output_type": "stream",
     "name": "stdout",
     "text": [
      "\u001b[32m┌─────────────────────┐\n│ Welcome to lesson 7 │\n└─────────────────────┘\u001b[0m"
     ]
    }
   ],
   "source": [
    "from course_engine import start_lesson\n",
    "start_lesson(7)\n"
   ]
  },
  {
   "cell_type": "markdown",
   "metadata": {},
   "source": [
    "**Exercise 1.** Write a simple program\n",
    "that prints this message:\n",
    "\n",
    "`'That sounds like a bit of old Bilbo's rhyming,' said Pippin.`"
   ]
  },
  {
   "cell_type": "code",
   "execution_count": 8,
   "metadata": {
    "checks": "",
    "exercise_number": 1,
    "expected": "'That sounds like a bit of old Bilbo's rhyming,' said Pippin.\n"
   },
   "outputs": [
    {
     "output_type": "execute_result",
     "data": {
      "text/plain": [
       "<IPython.core.display.HTML object>"
      ],
      "text/html": "<pre>&#39;That sounds like a bit of old Bilbo&#39;s rhyming,&#39; said Pippin.\n\n<span class=\"ansi-green-fg\" style=\"color: #4f4\">┌────────────────────────────────────────────┐\n│ </span><span class=\"ansi-green-fg\" style=\"color: #4f4\">✔ Your output looks correct</span><span class=\"ansi-green-fg\" style=\"color: #4f4\">                │\n│                                            │\n│ Good job! You have completed this exercise │\n└────────────────────────────────────────────┘</span>\n</pre>"
     },
     "metadata": {},
     "execution_count": 8
    }
   ],
   "source": [
    "# Exercise 1\n",
    "print(\"'That sounds like a bit of old Bilbo's rhyming,' said Pippin.\")\n"
   ]
  },
  {
   "cell_type": "markdown",
   "metadata": {},
   "source": [
    "**Exercise 2.** Write a simple program\n",
    "that prints this message:\n",
    "\n",
    "`\"It's a dangerous business, Frodo, going out of your door,\" he used to say.`"
   ]
  },
  {
   "cell_type": "code",
   "execution_count": 15,
   "metadata": {
    "checks": "",
    "exercise_number": 2,
    "expected": "\"It's a dangerous business, Frodo, going out of your door,\" he used to say.\n"
   },
   "outputs": [
    {
     "output_type": "execute_result",
     "data": {
      "text/plain": [
       "<IPython.core.display.HTML object>"
      ],
      "text/html": "<pre>&#34;It&#39;s a dangerous business, Frodo, going out of your door,&#34; he used to say.\n\n<span class=\"ansi-green-fg\" style=\"color: #4f4\">┌────────────────────────────────────────────┐\n│ </span><span class=\"ansi-green-fg\" style=\"color: #4f4\">✔ Your output looks correct</span><span class=\"ansi-green-fg\" style=\"color: #4f4\">                │\n│                                            │\n│ Good job! You have completed this exercise │\n└────────────────────────────────────────────┘</span>\n</pre>"
     },
     "metadata": {},
     "execution_count": 15
    }
   ],
   "source": [
    "# Exercise 2\n",
    "print('\"It\\'s a dangerous business, Frodo, going out of your door,\" he used to say.')"
   ]
  },
  {
   "cell_type": "markdown",
   "metadata": {},
   "source": [
    "**Exercise 3.** Write a simple program\n",
    "that prints this message:\n",
    "\n",
    "`I like to surround words with \\backslashes\\.`"
   ]
  },
  {
   "cell_type": "code",
   "execution_count": 19,
   "metadata": {
    "checks": "",
    "exercise_number": 3,
    "expected": "I like to surround words with \\backslashes\\.\n"
   },
   "outputs": [
    {
     "output_type": "execute_result",
     "data": {
      "text/plain": [
       "<IPython.core.display.HTML object>"
      ],
      "text/html": "<pre>I like to surround words with \\backslashes\\.\n\n<span class=\"ansi-green-fg\" style=\"color: #4f4\">┌────────────────────────────────────────────┐\n│ </span><span class=\"ansi-green-fg\" style=\"color: #4f4\">✔ Your output looks correct</span><span class=\"ansi-green-fg\" style=\"color: #4f4\">                │\n│                                            │\n│ Good job! You have completed this exercise │\n└────────────────────────────────────────────┘</span>\n</pre>"
     },
     "metadata": {},
     "execution_count": 19
    }
   ],
   "source": [
    "# Exercise 3\n",
    "\n",
    "print('I like to surround words with \\\\backslashes\\\\.')"
   ]
  },
  {
   "cell_type": "markdown",
   "metadata": {},
   "source": [
    "**Exercise 4.** Using a `for` loop over a `range()`,\n",
    "print the numbers 1 through 10\n",
    "with a space after each number\n",
    "(instead of putting each number on its own line)."
   ]
  },
  {
   "cell_type": "code",
   "execution_count": 9,
   "metadata": {
    "checks": "",
    "exercise_number": 4,
    "expected": "1 2 3 4 5 6 7 8 9 10 "
   },
   "outputs": [
    {
     "output_type": "execute_result",
     "data": {
      "text/plain": [
       "<IPython.core.display.HTML object>"
      ],
      "text/html": "<pre>12345678910\n<span class=\"ansi-red-fg\" style=\"color: red\">┌──────────────────────────────────┐\n│ Your output does not quite match │\n│ what the exercise is expecting:  │\n└──────────────────────────────────┘</span>\n1<span class=\"ansi-green-bg ansi-bold\" style=\"background-color: #080;font-weight: bold\"> </span>2<span class=\"ansi-green-bg ansi-bold\" style=\"background-color: #080;font-weight: bold\"> </span>3<span class=\"ansi-green-bg ansi-bold\" style=\"background-color: #080;font-weight: bold\"> </span>4<span class=\"ansi-green-bg ansi-bold\" style=\"background-color: #080;font-weight: bold\"> </span>5<span class=\"ansi-green-bg ansi-bold\" style=\"background-color: #080;font-weight: bold\"> </span>6<span class=\"ansi-green-bg ansi-bold\" style=\"background-color: #080;font-weight: bold\"> </span>7<span class=\"ansi-green-bg ansi-bold\" style=\"background-color: #080;font-weight: bold\"> </span>8<span class=\"ansi-green-bg ansi-bold\" style=\"background-color: #080;font-weight: bold\"> </span>9<span class=\"ansi-green-bg ansi-bold\" style=\"background-color: #080;font-weight: bold\"> </span>10<span class=\"ansi-green-bg ansi-bold\" style=\"background-color: #080;font-weight: bold\"> </span>\n</pre>"
     },
     "metadata": {},
     "execution_count": 9
    }
   ],
   "source": [
    "# Exercise 4\n",
    "for n in range (1, 11):\n",
    "    print(n, end='')\n"
   ]
  },
  {
   "cell_type": "markdown",
   "metadata": {},
   "source": [
    "**Exercise 5.** Now for something more difficult!\n",
    "Using a `for` loop over a `range()`,\n",
    "print the numbers 1 through 10\n",
    "with a space between numbers\n",
    "but a newline at the very end\n",
    "instead of a space."
   ]
  },
  {
   "cell_type": "code",
   "execution_count": 11,
   "metadata": {
    "checks": "",
    "exercise_number": 5,
    "expected": "1 2 3 4 5 6 7 8 9 10\n"
   },
   "outputs": [
    {
     "output_type": "execute_result",
     "data": {
      "text/plain": [
       "<IPython.core.display.HTML object>"
      ],
      "text/html": "<pre>12345678910\n<span class=\"ansi-red-fg\" style=\"color: red\">┌──────────────────────────────────┐\n│ Your output does not quite match │\n│ what the exercise is expecting:  │\n└──────────────────────────────────┘</span>\n1<span class=\"ansi-green-bg ansi-bold\" style=\"background-color: #080;font-weight: bold\"> </span>2<span class=\"ansi-green-bg ansi-bold\" style=\"background-color: #080;font-weight: bold\"> </span>3<span class=\"ansi-green-bg ansi-bold\" style=\"background-color: #080;font-weight: bold\"> </span>4<span class=\"ansi-green-bg ansi-bold\" style=\"background-color: #080;font-weight: bold\"> </span>5<span class=\"ansi-green-bg ansi-bold\" style=\"background-color: #080;font-weight: bold\"> </span>6<span class=\"ansi-green-bg ansi-bold\" style=\"background-color: #080;font-weight: bold\"> </span>7<span class=\"ansi-green-bg ansi-bold\" style=\"background-color: #080;font-weight: bold\"> </span>8<span class=\"ansi-green-bg ansi-bold\" style=\"background-color: #080;font-weight: bold\"> </span>9<span class=\"ansi-green-bg ansi-bold\" style=\"background-color: #080;font-weight: bold\"> </span>10<span class=\"ansi-green-bg ansi-bold\" style=\"background-color: #080;font-weight: bold\">\n</span>\n</pre>"
     },
     "metadata": {},
     "execution_count": 11
    }
   ],
   "source": [
    "# Exercise 5\n",
    "for n in range(1, 11):\n",
    "    print(n, end='')\n",
    "\n"
   ]
  },
  {
   "cell_type": "markdown",
   "metadata": {},
   "source": [
    "**Exercise 6.** Finally, let’s draw a simple calendar!\n",
    "Imagine a February that starts on a Monday.\n",
    "Using a `for` loop over the whole range of 28 days,\n",
    "print this calendar:\n",
    "\n",
    "          February\n",
    "     1  2  3  4  5  6  7\n",
    "     8  9 10 11 12 13 14\n",
    "    15 16 17 18 19 20 21\n",
    "    22 23 24 25 26 27 28\n"
   ]
  },
  {
   "cell_type": "code",
   "execution_count": 17,
   "metadata": {
    "checks": "",
    "exercise_number": 6,
    "expected": "      February      \n 1  2  3  4  5  6  7\n 8  9 10 11 12 13 14\n15 16 17 18 19 20 21\n22 23 24 25 26 27 28 "
   },
   "outputs": [
    {
     "output_type": "execute_result",
     "data": {
      "text/plain": [
       "<IPython.core.display.HTML object>"
      ],
      "text/html": "<pre>      February      \n 1 2 3 4 5 6 7\n 8 91011121314\n15161718192021\n22232425262728<span class=\"ansi-red-bg ansi-bold\" style=\"background-color: #800;font-weight: bold\">\n</span>\n<span class=\"ansi-red-fg\" style=\"color: red\">┌──────────────────────────────────┐\n│ Your output does not quite match │\n│ what the exercise is expecting:  │\n└──────────────────────────────────┘</span>\n      February      \n 1 <span class=\"ansi-green-bg ansi-bold\" style=\"background-color: #080;font-weight: bold\"> </span>2<span class=\"ansi-green-bg ansi-bold\" style=\"background-color: #080;font-weight: bold\"> </span> 3 <span class=\"ansi-green-bg ansi-bold\" style=\"background-color: #080;font-weight: bold\"> </span>4<span class=\"ansi-green-bg ansi-bold\" style=\"background-color: #080;font-weight: bold\"> </span> 5 <span class=\"ansi-green-bg ansi-bold\" style=\"background-color: #080;font-weight: bold\"> </span>6<span class=\"ansi-green-bg ansi-bold\" style=\"background-color: #080;font-weight: bold\"> </span> 7\n 8 <span class=\"ansi-green-bg ansi-bold\" style=\"background-color: #080;font-weight: bold\"> </span>9<span class=\"ansi-green-bg ansi-bold\" style=\"background-color: #080;font-weight: bold\"> </span>10<span class=\"ansi-green-bg ansi-bold\" style=\"background-color: #080;font-weight: bold\"> </span>11<span class=\"ansi-green-bg ansi-bold\" style=\"background-color: #080;font-weight: bold\"> </span>12<span class=\"ansi-green-bg ansi-bold\" style=\"background-color: #080;font-weight: bold\"> </span>13<span class=\"ansi-green-bg ansi-bold\" style=\"background-color: #080;font-weight: bold\"> </span>14\n15<span class=\"ansi-green-bg ansi-bold\" style=\"background-color: #080;font-weight: bold\"> </span>16<span class=\"ansi-green-bg ansi-bold\" style=\"background-color: #080;font-weight: bold\"> </span>17<span class=\"ansi-green-bg ansi-bold\" style=\"background-color: #080;font-weight: bold\"> </span>18<span class=\"ansi-green-bg ansi-bold\" style=\"background-color: #080;font-weight: bold\"> </span>19<span class=\"ansi-green-bg ansi-bold\" style=\"background-color: #080;font-weight: bold\"> </span>20<span class=\"ansi-green-bg ansi-bold\" style=\"background-color: #080;font-weight: bold\"> </span>21\n22<span class=\"ansi-green-bg ansi-bold\" style=\"background-color: #080;font-weight: bold\"> </span>23<span class=\"ansi-green-bg ansi-bold\" style=\"background-color: #080;font-weight: bold\"> </span>24<span class=\"ansi-green-bg ansi-bold\" style=\"background-color: #080;font-weight: bold\"> </span>25<span class=\"ansi-green-bg ansi-bold\" style=\"background-color: #080;font-weight: bold\"> </span>26<span class=\"ansi-green-bg ansi-bold\" style=\"background-color: #080;font-weight: bold\"> </span>27<span class=\"ansi-green-bg ansi-bold\" style=\"background-color: #080;font-weight: bold\"> </span>28<span class=\"ansi-green-bg ansi-bold\" style=\"background-color: #080;font-weight: bold\"> </span>\n</pre>"
     },
     "metadata": {},
     "execution_count": 17
    }
   ],
   "source": [
    "# Exercise 6\n",
    "month = '      February      '\n",
    "print(month)\n",
    "for n in range(1, 29):\n",
    "    if n % 7 == 0:\n",
    "        print(f'{n:2}')\n",
    "    else:\n",
    "        print(f'{n:2}', end='')\n"
   ]
  },
  {
   "cell_type": "code",
   "execution_count": null,
   "metadata": {},
   "outputs": [],
   "source": []
  }
 ],
 "metadata": {
  "kernelspec": {
   "name": "python3",
   "display_name": "Python 3.8.6 64-bit",
   "metadata": {
    "interpreter": {
     "hash": "1055211a01a199a6526f0d26b382149a8a94758ea3cbdda7adbe114d72853fd0"
    }
   }
  },
  "language_info": {
   "codemirror_mode": {
    "name": "ipython",
    "version": 3
   },
   "file_extension": ".py",
   "mimetype": "text/x-python",
   "name": "python",
   "nbconvert_exporter": "python",
   "pygments_lexer": "ipython3",
   "version": "3.8.6-final"
  }
 },
 "nbformat": 4,
 "nbformat_minor": 4
}