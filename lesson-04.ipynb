{
 "cells": [
  {
   "cell_type": "markdown",
   "metadata": {},
   "source": [
    "# Lesson 4\n",
    "\n",
    "Welcome to your introduction to Python lists and sorting!\n",
    "Every time you open this notebook,\n",
    "run this top cell first:"
   ]
  },
  {
   "cell_type": "code",
   "execution_count": 8,
   "metadata": {
    "tags": []
   },
   "outputs": [
    {
     "output_type": "stream",
     "name": "stdout",
     "text": "\u001b[32m┌─────────────────────┐\n│ Welcome to lesson 4 │\n└─────────────────────┘\u001b[0m"
    }
   ],
   "source": [
    "from course_engine import start_lesson\n",
    "start_lesson(4)\n"
   ]
  },
  {
   "cell_type": "markdown",
   "metadata": {},
   "source": [
    "**Exercise 1.** In the lecture you learned about the powerful and convenient Python “list”.\n",
    "Here are examples of what you can do with it —\n",
    "if you forget what one of these examples does,\n",
    "simply paste it into a Notebook cell:\n",
    "\n",
    "```\n",
    "animals = ['Moose', 'Bison', 'Coyote']\n",
    "print(animals)\n",
    "```\n",
    "\n",
    "```\n",
    "animals = []\n",
    "animals.append('Moose')\n",
    "animals.append('Bison')\n",
    "animals.append('Coyote')\n",
    "print(animals)\n",
    "```\n",
    "\n",
    "```\n",
    "animals = ['Moose', 'Bison', 'Coyote']\n",
    "for animal in animals:\n",
    "    print(animal)\n",
    "```\n",
    "\n",
    "```\n",
    "animals = ['Moose', 'Bison', 'Coyote']\n",
    "animals.sort()\n",
    "print(animals)\n",
    "````\n",
    "\n",
    "Using this exciting new feature,\n",
    "list in alphabetical order\n",
    "all the animals in `Data/state-animals.csv`\n",
    "including duplicates.\n",
    "(So, your output will end with a *lot* of white-tailed deer.\n",
    "Like, an almost unreasonable number.\n",
    "No idea why they are so popular.)"
   ]
  },
  {
   "cell_type": "code",
   "execution_count": 10,
   "metadata": {
    "checks": "",
    "exercise_number": 1,
    "expected": "American badger\nBeaver\nBeaver\nBighorn sheep\nBighorn sheep\nBison\nBison\nBison\nBlack bear\nBlack bear\nBlack bear\nBlack bear\nBowhead whale\nCoyote\nFlorida panther\nGray fox\nGray squirrel\nGray squirrel\nGrizzly bear\nGrizzly bear\nHarbor seal\nHawaiian monk seal\nMissouri mule\nMoose\nNine-banded armadillo\nOrca\nRaccoon\nRandall Lineback\nRight whale\nRing-tailed cat\nRocky Mountain elk\nSperm whale\nVirginia big-eared bat\nWhite-tailed deer\nWhite-tailed deer\nWhite-tailed deer\nWhite-tailed deer\nWhite-tailed deer\nWhite-tailed deer\nWhite-tailed deer\nWhite-tailed deer\nWhite-tailed deer\nWhite-tailed deer\n",
    "tags": []
   },
   "outputs": [
    {
     "output_type": "execute_result",
     "data": {
      "text/plain": "&lt;IPython.core.display.HTML object&gt;",
      "text/html": "<pre><span class=\"ansi-red-intense-fg ansi-bold\" style=\"color: red;font-weight: bold\">[&#39;</span>American badger<span class=\"ansi-red-intense-fg ansi-bold\" style=\"color: red;font-weight: bold\">&#39;, &#39;</span>Beaver<span class=\"ansi-red-intense-fg ansi-bold\" style=\"color: red;font-weight: bold\">&#39;, &#39;</span>Beaver<span class=\"ansi-red-intense-fg ansi-bold\" style=\"color: red;font-weight: bold\">&#39;, &#39;</span>Bighorn sheep<span class=\"ansi-red-intense-fg ansi-bold\" style=\"color: red;font-weight: bold\">&#39;, &#39;</span>Bighorn sheep<span class=\"ansi-red-intense-fg ansi-bold\" style=\"color: red;font-weight: bold\">&#39;, &#39;</span>Bison<span class=\"ansi-red-intense-fg ansi-bold\" style=\"color: red;font-weight: bold\">&#39;, &#39;</span>Bison<span class=\"ansi-red-intense-fg ansi-bold\" style=\"color: red;font-weight: bold\">&#39;, &#39;</span>Bison<span class=\"ansi-red-intense-fg ansi-bold\" style=\"color: red;font-weight: bold\">&#39;, &#39;</span>Black bear<span class=\"ansi-red-intense-fg ansi-bold\" style=\"color: red;font-weight: bold\">&#39;, &#39;</span>Black bear<span class=\"ansi-red-intense-fg ansi-bold\" style=\"color: red;font-weight: bold\">&#39;, &#39;</span>Black bear<span class=\"ansi-red-intense-fg ansi-bold\" style=\"color: red;font-weight: bold\">&#39;, &#39;</span>Black bear<span class=\"ansi-red-intense-fg ansi-bold\" style=\"color: red;font-weight: bold\">&#39;, &#39;</span>Bowhead whale<span class=\"ansi-red-intense-fg ansi-bold\" style=\"color: red;font-weight: bold\">&#39;, &#39;</span>Coyote<span class=\"ansi-red-intense-fg ansi-bold\" style=\"color: red;font-weight: bold\">&#39;, &#39;</span>Florida panther<span class=\"ansi-red-intense-fg ansi-bold\" style=\"color: red;font-weight: bold\">&#39;, &#39;</span>Gray fox<span class=\"ansi-red-intense-fg ansi-bold\" style=\"color: red;font-weight: bold\">&#39;, &#39;</span>Gray squirrel<span class=\"ansi-red-intense-fg ansi-bold\" style=\"color: red;font-weight: bold\">&#39;, &#39;</span>Gray squirrel<span class=\"ansi-red-intense-fg ansi-bold\" style=\"color: red;font-weight: bold\">&#39;, &#39;</span>Grizzly bear<span class=\"ansi-red-intense-fg ansi-bold\" style=\"color: red;font-weight: bold\">&#39;, &#39;</span>Grizzly bear<span class=\"ansi-red-intense-fg ansi-bold\" style=\"color: red;font-weight: bold\">&#39;, &#39;</span>Harbor seal<span class=\"ansi-red-intense-fg ansi-bold\" style=\"color: red;font-weight: bold\">&#39;, &#39;</span>Hawaiian monk seal<span class=\"ansi-red-intense-fg ansi-bold\" style=\"color: red;font-weight: bold\">&#39;, &#39;</span>Missouri mule<span class=\"ansi-red-intense-fg ansi-bold\" style=\"color: red;font-weight: bold\">&#39;, &#39;</span>Moose<span class=\"ansi-red-intense-fg ansi-bold\" style=\"color: red;font-weight: bold\">&#39;, &#39;</span>Nine-banded armadillo<span class=\"ansi-red-intense-fg ansi-bold\" style=\"color: red;font-weight: bold\">&#39;, &#39;</span>Orca<span class=\"ansi-red-intense-fg ansi-bold\" style=\"color: red;font-weight: bold\">&#39;, &#39;</span>Raccoon<span class=\"ansi-red-intense-fg ansi-bold\" style=\"color: red;font-weight: bold\">&#39;, &#39;</span>Randall Lineback<span class=\"ansi-red-intense-fg ansi-bold\" style=\"color: red;font-weight: bold\">&#39;, &#39;</span>Right whale<span class=\"ansi-red-intense-fg ansi-bold\" style=\"color: red;font-weight: bold\">&#39;, &#39;</span>Ring-tailed cat<span class=\"ansi-red-intense-fg ansi-bold\" style=\"color: red;font-weight: bold\">&#39;, &#39;</span>Rocky Mountain elk<span class=\"ansi-red-intense-fg ansi-bold\" style=\"color: red;font-weight: bold\">&#39;, &#39;</span>Sperm whale<span class=\"ansi-red-intense-fg ansi-bold\" style=\"color: red;font-weight: bold\">&#39;, &#39;</span>Virginia big-eared bat<span class=\"ansi-red-intense-fg ansi-bold\" style=\"color: red;font-weight: bold\">&#39;, &#39;</span>White-tailed deer<span class=\"ansi-red-intense-fg ansi-bold\" style=\"color: red;font-weight: bold\">&#39;, &#39;</span>White-tailed deer<span class=\"ansi-red-intense-fg ansi-bold\" style=\"color: red;font-weight: bold\">&#39;, &#39;</span>White-tailed deer<span class=\"ansi-red-intense-fg ansi-bold\" style=\"color: red;font-weight: bold\">&#39;, &#39;</span>White-tailed deer<span class=\"ansi-red-intense-fg ansi-bold\" style=\"color: red;font-weight: bold\">&#39;, &#39;</span>White-tailed deer<span class=\"ansi-red-intense-fg ansi-bold\" style=\"color: red;font-weight: bold\">&#39;, &#39;</span>White-tailed deer<span class=\"ansi-red-intense-fg ansi-bold\" style=\"color: red;font-weight: bold\">&#39;, &#39;</span>White-tailed deer<span class=\"ansi-red-intense-fg ansi-bold\" style=\"color: red;font-weight: bold\">&#39;, &#39;</span>White-tailed deer<span class=\"ansi-red-intense-fg ansi-bold\" style=\"color: red;font-weight: bold\">&#39;, &#39;</span>White-tailed deer<span class=\"ansi-red-intense-fg ansi-bold\" style=\"color: red;font-weight: bold\">&#39;, &#39;</span>White-tailed deer<span class=\"ansi-red-intense-fg ansi-bold\" style=\"color: red;font-weight: bold\">&#39;]</span>\n\n<span class=\"ansi-red-fg\" style=\"color: red\">┌──────────────────────────────────┐\n│ Your output does not quite match │\n│ what the exercise is expecting:  │\n└──────────────────────────────────┘</span>\nAmerican badger<span class=\"ansi-green-intense-fg ansi-bold\" style=\"color: #4f4;font-weight: bold\">\n</span>Beaver<span class=\"ansi-green-intense-fg ansi-bold\" style=\"color: #4f4;font-weight: bold\">\n</span>Beaver<span class=\"ansi-green-intense-fg ansi-bold\" style=\"color: #4f4;font-weight: bold\">\n</span>Bighorn sheep<span class=\"ansi-green-intense-fg ansi-bold\" style=\"color: #4f4;font-weight: bold\">\n</span>Bighorn sheep<span class=\"ansi-green-intense-fg ansi-bold\" style=\"color: #4f4;font-weight: bold\">\n</span>Bison<span class=\"ansi-green-intense-fg ansi-bold\" style=\"color: #4f4;font-weight: bold\">\n</span>Bison<span class=\"ansi-green-intense-fg ansi-bold\" style=\"color: #4f4;font-weight: bold\">\n</span>Bison<span class=\"ansi-green-intense-fg ansi-bold\" style=\"color: #4f4;font-weight: bold\">\n</span>Black bear<span class=\"ansi-green-intense-fg ansi-bold\" style=\"color: #4f4;font-weight: bold\">\n</span>Black bear<span class=\"ansi-green-intense-fg ansi-bold\" style=\"color: #4f4;font-weight: bold\">\n</span>Black bear<span class=\"ansi-green-intense-fg ansi-bold\" style=\"color: #4f4;font-weight: bold\">\n</span>Black bear<span class=\"ansi-green-intense-fg ansi-bold\" style=\"color: #4f4;font-weight: bold\">\n</span>Bowhead whale<span class=\"ansi-green-intense-fg ansi-bold\" style=\"color: #4f4;font-weight: bold\">\n</span>Coyote<span class=\"ansi-green-intense-fg ansi-bold\" style=\"color: #4f4;font-weight: bold\">\n</span>Florida panther<span class=\"ansi-green-intense-fg ansi-bold\" style=\"color: #4f4;font-weight: bold\">\n</span>Gray fox<span class=\"ansi-green-intense-fg ansi-bold\" style=\"color: #4f4;font-weight: bold\">\n</span>Gray squirrel<span class=\"ansi-green-intense-fg ansi-bold\" style=\"color: #4f4;font-weight: bold\">\n</span>Gray squirrel<span class=\"ansi-green-intense-fg ansi-bold\" style=\"color: #4f4;font-weight: bold\">\n</span>Grizzly bear<span class=\"ansi-green-intense-fg ansi-bold\" style=\"color: #4f4;font-weight: bold\">\n</span>Grizzly bear<span class=\"ansi-green-intense-fg ansi-bold\" style=\"color: #4f4;font-weight: bold\">\n</span>Harbor seal<span class=\"ansi-green-intense-fg ansi-bold\" style=\"color: #4f4;font-weight: bold\">\n</span>Hawaiian monk seal<span class=\"ansi-green-intense-fg ansi-bold\" style=\"color: #4f4;font-weight: bold\">\n</span>Missouri mule<span class=\"ansi-green-intense-fg ansi-bold\" style=\"color: #4f4;font-weight: bold\">\n</span>Moose<span class=\"ansi-green-intense-fg ansi-bold\" style=\"color: #4f4;font-weight: bold\">\n</span>Nine-banded armadillo<span class=\"ansi-green-intense-fg ansi-bold\" style=\"color: #4f4;font-weight: bold\">\n</span>Orca<span class=\"ansi-green-intense-fg ansi-bold\" style=\"color: #4f4;font-weight: bold\">\n</span>Raccoon<span class=\"ansi-green-intense-fg ansi-bold\" style=\"color: #4f4;font-weight: bold\">\n</span>Randall Lineback<span class=\"ansi-green-intense-fg ansi-bold\" style=\"color: #4f4;font-weight: bold\">\n</span>Right whale<span class=\"ansi-green-intense-fg ansi-bold\" style=\"color: #4f4;font-weight: bold\">\n</span>Ring-tailed cat<span class=\"ansi-green-intense-fg ansi-bold\" style=\"color: #4f4;font-weight: bold\">\n</span>Rocky Mountain elk<span class=\"ansi-green-intense-fg ansi-bold\" style=\"color: #4f4;font-weight: bold\">\n</span>Sperm whale<span class=\"ansi-green-intense-fg ansi-bold\" style=\"color: #4f4;font-weight: bold\">\n</span>Virginia big-eared bat<span class=\"ansi-green-intense-fg ansi-bold\" style=\"color: #4f4;font-weight: bold\">\n</span>White-tailed deer<span class=\"ansi-green-intense-fg ansi-bold\" style=\"color: #4f4;font-weight: bold\">\n</span>White-tailed deer<span class=\"ansi-green-intense-fg ansi-bold\" style=\"color: #4f4;font-weight: bold\">\n</span>White-tailed deer<span class=\"ansi-green-intense-fg ansi-bold\" style=\"color: #4f4;font-weight: bold\">\n</span>White-tailed deer<span class=\"ansi-green-intense-fg ansi-bold\" style=\"color: #4f4;font-weight: bold\">\n</span>White-tailed deer<span class=\"ansi-green-intense-fg ansi-bold\" style=\"color: #4f4;font-weight: bold\">\n</span>White-tailed deer<span class=\"ansi-green-intense-fg ansi-bold\" style=\"color: #4f4;font-weight: bold\">\n</span>White-tailed deer<span class=\"ansi-green-intense-fg ansi-bold\" style=\"color: #4f4;font-weight: bold\">\n</span>White-tailed deer<span class=\"ansi-green-intense-fg ansi-bold\" style=\"color: #4f4;font-weight: bold\">\n</span>White-tailed deer<span class=\"ansi-green-intense-fg ansi-bold\" style=\"color: #4f4;font-weight: bold\">\n</span>White-tailed deer\n\n</pre>"
     },
     "metadata": {},
     "execution_count": 10
    }
   ],
   "source": [
    "# Exercise 1\n",
    "import csv \n",
    "animals =[]\n",
    "file = open ('Data/state-animals.csv')\n",
    "for state, animal in csv.reader(file) :\n",
    "    animals.append(animal)\n",
    "animals.sort()\n",
    "print(animals)\n",
    "\n",
    "   "
   ]
  },
  {
   "cell_type": "markdown",
   "metadata": {},
   "source": [
    "**Exercise 2.** Next, write a program that prints\n",
    "in alphabetical order\n",
    "all the animals in `Data/state-animals.csv`\n",
    "that start with “H”."
   ]
  },
  {
   "cell_type": "code",
   "execution_count": 6,
   "metadata": {
    "checks": "",
    "exercise_number": 2,
    "expected": "Harbor seal\nHawaiian monk seal\n",
    "tags": []
   },
   "outputs": [
    {
     "output_type": "execute_result",
     "data": {
      "text/plain": "&lt;IPython.core.display.HTML object&gt;",
      "text/html": "<pre><span class=\"ansi-red-intense-fg ansi-bold\" style=\"color: red;font-weight: bold\">B</span>i<span class=\"ansi-red-intense-fg ansi-bold\" style=\"color: red;font-weight: bold\">s</span>on\n\n<span class=\"ansi-red-fg\" style=\"color: red\">┌──────────────────────────────────┐\n│ Your output does not quite match │\n│ what the exercise is expecting:  │\n└──────────────────────────────────┘</span>\n<span class=\"ansi-green-intense-fg ansi-bold\" style=\"color: #4f4;font-weight: bold\">Harbor seal\nHawa</span>i<span class=\"ansi-green-intense-fg ansi-bold\" style=\"color: #4f4;font-weight: bold\">ian m</span>on<span class=\"ansi-green-intense-fg ansi-bold\" style=\"color: #4f4;font-weight: bold\">k seal</span>\n\n</pre>"
     },
     "metadata": {},
     "execution_count": 6
    }
   ],
   "source": [
    "# Exercise 2\n",
    "import csv \n",
    "animals =[]\n",
    "file = open ('Data/state-animals.csv')\n",
    "for state, animal in csv.reader(file) :\n",
    "    animals.append(animal)\n",
    "print(animal)\n",
    "     "
   ]
  },
  {
   "cell_type": "markdown",
   "metadata": {},
   "source": [
    "**Exercise 3.** Next, write a program that prints\n",
    "in alphabetical order\n",
    "all the animals in `Data/state-animals.csv`\n",
    "that start with “R”."
   ]
  },
  {
   "cell_type": "code",
   "execution_count": null,
   "metadata": {
    "checks": "",
    "exercise_number": 3,
    "expected": "Raccoon\nRandall Lineback\nRight whale\nRing-tailed cat\nRocky Mountain elk\n"
   },
   "outputs": [],
   "source": [
    "# Exercise 3\n",
    "\n"
   ]
  },
  {
   "cell_type": "markdown",
   "metadata": {},
   "source": [
    "**Exercise 4.** Write a program that prints\n",
    "in alphabetical order\n",
    "all the whales in `Data/state-animals.csv`."
   ]
  },
  {
   "cell_type": "code",
   "execution_count": null,
   "metadata": {
    "checks": "",
    "exercise_number": 4,
    "expected": "Bowhead whale\nRight whale\nSperm whale\n"
   },
   "outputs": [],
   "source": [
    "# Exercise 4\n",
    "\n"
   ]
  },
  {
   "cell_type": "markdown",
   "metadata": {},
   "source": [
    "**Exercise 5.** Finally,\n",
    "write a program\n",
    "that prints in alphabetical order\n",
    "all of the animals in `Data/state-animals.csv`\n",
    "printing the name of each animal only once.\n",
    "(So, only one white-tailed deer down at the end of its output!)"
   ]
  },
  {
   "cell_type": "code",
   "execution_count": 7,
   "metadata": {
    "checks": "",
    "exercise_number": 5,
    "expected": "American badger\nBeaver\nBighorn sheep\nBison\nBlack bear\nBowhead whale\nCoyote\nFlorida panther\nGray fox\nGray squirrel\nGrizzly bear\nHarbor seal\nHawaiian monk seal\nMissouri mule\nMoose\nNine-banded armadillo\nOrca\nRaccoon\nRandall Lineback\nRight whale\nRing-tailed cat\nRocky Mountain elk\nSperm whale\nVirginia big-eared bat\nWhite-tailed deer\n",
    "tags": []
   },
   "outputs": [
    {
     "output_type": "execute_result",
     "data": {
      "text/plain": "&lt;IPython.core.display.HTML object&gt;",
      "text/html": "<pre>American badger\nBeaver\nBighorn sheep\nBison\nBlack bear\nBowhead whale\nCoyote\nFlorida panther\nGray fox\nGray squirrel\nGrizzly bear\nHarbor seal\nHawaiian monk seal\nMissouri mule\nMoose\nNine-banded armadillo\nOrca\nRaccoon\nRandall Lineback\nRight whale\nRing-tailed cat\nRocky Mountain elk\nSperm whale\nVirginia big-eared bat\nWhite-tailed deer\n\n<span class=\"ansi-green-fg\" style=\"color: #4f4\">┌────────────────────────────────────────────┐\n│ </span><span class=\"ansi-green-fg\" style=\"color: #4f4\">✔ Your output looks correct</span><span class=\"ansi-green-fg\" style=\"color: #4f4\">                │\n│                                            │\n│ Good job! You have completed this exercise │\n└────────────────────────────────────────────┘</span>\n</pre>"
     },
     "metadata": {},
     "execution_count": 7
    }
   ],
   "source": [
    "# Exercise 5\n",
    "import csv \n",
    "animals =[]\n",
    "file = open ('Data/state-animals.csv')\n",
    "for state, animal in csv.reader(file) :\n",
    "    animals.append(animal)\n",
    "animals.sort()\n",
    "prevous = ''\n",
    "for animal in animals:\n",
    "    if animal != prevous:\n",
    "        prevous = animal\n",
    "        print(animal)\n",
    "\n"
   ]
  },
  {
   "cell_type": "code",
   "execution_count": null,
   "metadata": {},
   "outputs": [],
   "source": []
  },
  {
   "cell_type": "code",
   "execution_count": null,
   "metadata": {},
   "outputs": [],
   "source": []
  }
 ],
 "metadata": {
  "kernelspec": {
   "name": "Python 3.8.6 64-bit",
   "display_name": "Python 3.8.6 64-bit",
   "metadata": {
    "interpreter": {
     "hash": "1055211a01a199a6526f0d26b382149a8a94758ea3cbdda7adbe114d72853fd0"
    }
   }
  },
  "language_info": {
   "codemirror_mode": {
    "name": "ipython",
    "version": 3
   },
   "file_extension": ".py",
   "mimetype": "text/x-python",
   "name": "python",
   "nbconvert_exporter": "python",
   "pygments_lexer": "ipython3",
   "version": "3.8.6-final"
  }
 },
 "nbformat": 4,
 "nbformat_minor": 4
}