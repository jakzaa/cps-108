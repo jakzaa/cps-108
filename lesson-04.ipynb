{
 "cells": [
  {
   "cell_type": "markdown",
   "metadata": {},
   "source": [
    "# Lesson 4\n",
    "\n",
    "Welcome to your introduction to Python lists and sorting!\n",
    "Every time you open this notebook,\n",
    "run this top cell first:"
   ]
  },
  {
   "cell_type": "code",
   "execution_count": 17,
   "metadata": {
    "tags": []
   },
   "outputs": [
    {
     "output_type": "stream",
     "name": "stdout",
     "text": "\u001b[32m┌─────────────────────┐\n│ Welcome to lesson 4 │\n└─────────────────────┘\u001b[0m"
    }
   ],
   "source": [
    "from course_engine import start_lesson\n",
    "start_lesson(4)\n"
   ]
  },
  {
   "cell_type": "markdown",
   "metadata": {},
   "source": [
    "**Exercise 1.** In the lecture you learned about the powerful and convenient Python “list”.\n",
    "Here are examples of what you can do with it —\n",
    "if you forget what one of these examples does,\n",
    "simply paste it into a Notebook cell:\n",
    "\n",
    "```\n",
    "animals = ['Moose', 'Bison', 'Coyote']\n",
    "print(animals)\n",
    "```\n",
    "\n",
    "```\n",
    "animals = []\n",
    "animals.append('Moose')\n",
    "animals.append('Bison')\n",
    "animals.append('Coyote')\n",
    "print(animals)\n",
    "```\n",
    "\n",
    "```\n",
    "animals = ['Moose', 'Bison', 'Coyote']\n",
    "for animal in animals:\n",
    "    print(animal)\n",
    "```\n",
    "\n",
    "```\n",
    "animals = ['Moose', 'Bison', 'Coyote']\n",
    "animals.sort()\n",
    "print(animals)\n",
    "````\n",
    "\n",
    "Using this exciting new feature,\n",
    "list in alphabetical order\n",
    "all the animals in `Data/state-animals.csv`\n",
    "including duplicates.\n",
    "(So, your output will end with a *lot* of white-tailed deer.\n",
    "Like, an almost unreasonable number.\n",
    "No idea why they are so popular.)"
   ]
  },
  {
   "cell_type": "code",
   "execution_count": 21,
   "metadata": {
    "checks": "",
    "exercise_number": 1,
    "expected": "American badger\nBeaver\nBeaver\nBighorn sheep\nBighorn sheep\nBison\nBison\nBison\nBlack bear\nBlack bear\nBlack bear\nBlack bear\nBowhead whale\nCoyote\nFlorida panther\nGray fox\nGray squirrel\nGray squirrel\nGrizzly bear\nGrizzly bear\nHarbor seal\nHawaiian monk seal\nMissouri mule\nMoose\nNine-banded armadillo\nOrca\nRaccoon\nRandall Lineback\nRight whale\nRing-tailed cat\nRocky Mountain elk\nSperm whale\nVirginia big-eared bat\nWhite-tailed deer\nWhite-tailed deer\nWhite-tailed deer\nWhite-tailed deer\nWhite-tailed deer\nWhite-tailed deer\nWhite-tailed deer\nWhite-tailed deer\nWhite-tailed deer\nWhite-tailed deer\n",
    "tags": []
   },
   "outputs": [
    {
     "output_type": "execute_result",
     "data": {
      "text/plain": "<IPython.core.display.HTML object>",
      "text/html": "<pre><span class=\"ansi-red-intense-fg ansi-bold\" style=\"color: red;font-weight: bold\">[[...],</span> <span class=\"ansi-red-intense-fg ansi-bold\" style=\"color: red;font-weight: bold\">[...],</span> <span class=\"ansi-red-intense-fg ansi-bold\" style=\"color: red;font-weight: bold\">[...],</span> <span class=\"ansi-red-intense-fg ansi-bold\" style=\"color: red;font-weight: bold\">[...],</span> <span class=\"ansi-red-intense-fg ansi-bold\" style=\"color: red;font-weight: bold\">[...],</span> <span class=\"ansi-red-intense-fg ansi-bold\" style=\"color: red;font-weight: bold\">[...],</span> <span class=\"ansi-red-intense-fg ansi-bold\" style=\"color: red;font-weight: bold\">[...],</span> <span class=\"ansi-red-intense-fg ansi-bold\" style=\"color: red;font-weight: bold\">[...],</span> <span class=\"ansi-red-intense-fg ansi-bold\" style=\"color: red;font-weight: bold\">[...],</span> <span class=\"ansi-red-intense-fg ansi-bold\" style=\"color: red;font-weight: bold\">[...],</span> <span class=\"ansi-red-intense-fg ansi-bold\" style=\"color: red;font-weight: bold\">[...],</span> <span class=\"ansi-red-intense-fg ansi-bold\" style=\"color: red;font-weight: bold\">[...],</span> <span class=\"ansi-red-intense-fg ansi-bold\" style=\"color: red;font-weight: bold\">[...],</span> <span class=\"ansi-red-intense-fg ansi-bold\" style=\"color: red;font-weight: bold\">[...],</span> <span class=\"ansi-red-intense-fg ansi-bold\" style=\"color: red;font-weight: bold\">[...],</span> <span class=\"ansi-red-intense-fg ansi-bold\" style=\"color: red;font-weight: bold\">[...],</span> <span class=\"ansi-red-intense-fg ansi-bold\" style=\"color: red;font-weight: bold\">[...],</span> <span class=\"ansi-red-intense-fg ansi-bold\" style=\"color: red;font-weight: bold\">[...],</span> <span class=\"ansi-red-intense-fg ansi-bold\" style=\"color: red;font-weight: bold\">[...],</span> <span class=\"ansi-red-intense-fg ansi-bold\" style=\"color: red;font-weight: bold\">[...],</span> <span class=\"ansi-red-intense-fg ansi-bold\" style=\"color: red;font-weight: bold\">[...],</span> <span class=\"ansi-red-intense-fg ansi-bold\" style=\"color: red;font-weight: bold\">[...],</span> <span class=\"ansi-red-intense-fg ansi-bold\" style=\"color: red;font-weight: bold\">[...],</span> <span class=\"ansi-red-intense-fg ansi-bold\" style=\"color: red;font-weight: bold\">[...],</span> <span class=\"ansi-red-intense-fg ansi-bold\" style=\"color: red;font-weight: bold\">[...],</span> <span class=\"ansi-red-intense-fg ansi-bold\" style=\"color: red;font-weight: bold\">[...],</span> <span class=\"ansi-red-intense-fg ansi-bold\" style=\"color: red;font-weight: bold\">[...],</span> <span class=\"ansi-red-intense-fg ansi-bold\" style=\"color: red;font-weight: bold\">[...],</span> <span class=\"ansi-red-intense-fg ansi-bold\" style=\"color: red;font-weight: bold\">[...],</span> <span class=\"ansi-red-intense-fg ansi-bold\" style=\"color: red;font-weight: bold\">[...],</span> <span class=\"ansi-red-intense-fg ansi-bold\" style=\"color: red;font-weight: bold\">[...],</span> <span class=\"ansi-red-intense-fg ansi-bold\" style=\"color: red;font-weight: bold\">[...],</span> <span class=\"ansi-red-intense-fg ansi-bold\" style=\"color: red;font-weight: bold\">[...],</span> <span class=\"ansi-red-intense-fg ansi-bold\" style=\"color: red;font-weight: bold\">[...],</span> <span class=\"ansi-red-intense-fg ansi-bold\" style=\"color: red;font-weight: bold\">[...],</span> <span class=\"ansi-red-intense-fg ansi-bold\" style=\"color: red;font-weight: bold\">[...],</span> <span class=\"ansi-red-intense-fg ansi-bold\" style=\"color: red;font-weight: bold\">[...],</span> <span class=\"ansi-red-intense-fg ansi-bold\" style=\"color: red;font-weight: bold\">[...], [...], [...], [...], [...], [...]]</span>\n\n<span class=\"ansi-red-fg\" style=\"color: red\">┌──────────────────────────────────┐\n│ Your output does not quite match │\n│ what the exercise is expecting:  │\n└──────────────────────────────────┘</span>\n<span class=\"ansi-green-intense-fg ansi-bold\" style=\"color: #4f4;font-weight: bold\">American</span> <span class=\"ansi-green-intense-fg ansi-bold\" style=\"color: #4f4;font-weight: bold\">badger\nBeaver\nBeaver\nBighorn</span> <span class=\"ansi-green-intense-fg ansi-bold\" style=\"color: #4f4;font-weight: bold\">sheep\nBighorn</span> <span class=\"ansi-green-intense-fg ansi-bold\" style=\"color: #4f4;font-weight: bold\">sheep\nBison\nBison\nBison\nBlack</span> <span class=\"ansi-green-intense-fg ansi-bold\" style=\"color: #4f4;font-weight: bold\">bear\nBlack</span> <span class=\"ansi-green-intense-fg ansi-bold\" style=\"color: #4f4;font-weight: bold\">bear\nBlack</span> <span class=\"ansi-green-intense-fg ansi-bold\" style=\"color: #4f4;font-weight: bold\">bear\nBlack</span> <span class=\"ansi-green-intense-fg ansi-bold\" style=\"color: #4f4;font-weight: bold\">bear\nBowhead</span> <span class=\"ansi-green-intense-fg ansi-bold\" style=\"color: #4f4;font-weight: bold\">whale\nCoyote\nFlorida</span> <span class=\"ansi-green-intense-fg ansi-bold\" style=\"color: #4f4;font-weight: bold\">panther\nGray</span> <span class=\"ansi-green-intense-fg ansi-bold\" style=\"color: #4f4;font-weight: bold\">fox\nGray</span> <span class=\"ansi-green-intense-fg ansi-bold\" style=\"color: #4f4;font-weight: bold\">squirrel\nGray</span> <span class=\"ansi-green-intense-fg ansi-bold\" style=\"color: #4f4;font-weight: bold\">squirrel\nGrizzly</span> <span class=\"ansi-green-intense-fg ansi-bold\" style=\"color: #4f4;font-weight: bold\">bear\nGrizzly</span> <span class=\"ansi-green-intense-fg ansi-bold\" style=\"color: #4f4;font-weight: bold\">bear\nHarbor</span> <span class=\"ansi-green-intense-fg ansi-bold\" style=\"color: #4f4;font-weight: bold\">seal\nHawaiian</span> <span class=\"ansi-green-intense-fg ansi-bold\" style=\"color: #4f4;font-weight: bold\">monk</span> <span class=\"ansi-green-intense-fg ansi-bold\" style=\"color: #4f4;font-weight: bold\">seal\nMissouri</span> <span class=\"ansi-green-intense-fg ansi-bold\" style=\"color: #4f4;font-weight: bold\">mule\nMoose\nNine-banded</span> <span class=\"ansi-green-intense-fg ansi-bold\" style=\"color: #4f4;font-weight: bold\">armadillo\nOrca\nRaccoon\nRandall</span> <span class=\"ansi-green-intense-fg ansi-bold\" style=\"color: #4f4;font-weight: bold\">Lineback\nRight</span> <span class=\"ansi-green-intense-fg ansi-bold\" style=\"color: #4f4;font-weight: bold\">whale\nRing-tailed</span> <span class=\"ansi-green-intense-fg ansi-bold\" style=\"color: #4f4;font-weight: bold\">cat\nRocky</span> <span class=\"ansi-green-intense-fg ansi-bold\" style=\"color: #4f4;font-weight: bold\">Mountain</span> <span class=\"ansi-green-intense-fg ansi-bold\" style=\"color: #4f4;font-weight: bold\">elk\nSperm</span> <span class=\"ansi-green-intense-fg ansi-bold\" style=\"color: #4f4;font-weight: bold\">whale\nVirginia</span> <span class=\"ansi-green-intense-fg ansi-bold\" style=\"color: #4f4;font-weight: bold\">big-eared</span> <span class=\"ansi-green-intense-fg ansi-bold\" style=\"color: #4f4;font-weight: bold\">bat\nWhite-tailed</span> <span class=\"ansi-green-intense-fg ansi-bold\" style=\"color: #4f4;font-weight: bold\">deer\nWhite-tailed</span> <span class=\"ansi-green-intense-fg ansi-bold\" style=\"color: #4f4;font-weight: bold\">deer\nWhite-tailed</span> <span class=\"ansi-green-intense-fg ansi-bold\" style=\"color: #4f4;font-weight: bold\">deer\nWhite-tailed</span> <span class=\"ansi-green-intense-fg ansi-bold\" style=\"color: #4f4;font-weight: bold\">deer\nWhite-tailed</span> <span class=\"ansi-green-intense-fg ansi-bold\" style=\"color: #4f4;font-weight: bold\">deer\nWhite-tailed</span> <span class=\"ansi-green-intense-fg ansi-bold\" style=\"color: #4f4;font-weight: bold\">deer\nWhite-tailed</span> <span class=\"ansi-green-intense-fg ansi-bold\" style=\"color: #4f4;font-weight: bold\">deer\nWhite-tailed</span> <span class=\"ansi-green-intense-fg ansi-bold\" style=\"color: #4f4;font-weight: bold\">deer\nWhite-tailed</span> <span class=\"ansi-green-intense-fg ansi-bold\" style=\"color: #4f4;font-weight: bold\">deer\nWhite-tailed</span> <span class=\"ansi-green-intense-fg ansi-bold\" style=\"color: #4f4;font-weight: bold\">deer</span>\n\n</pre>"
     },
     "metadata": {},
     "execution_count": 21
    }
   ],
   "source": [
    "# Exercise 1\n",
    "import csv \n",
    "animals = []\n",
    "file = open ('Data/state-animals.csv')\n",
    "for state, animal in csv.reader(file) :\n",
    "    animals.append(animals)\n",
    "print(animals)\n",
    "       \n",
    "   "
   ]
  },
  {
   "cell_type": "markdown",
   "metadata": {},
   "source": [
    "**Exercise 2.** Next, write a program that prints\n",
    "in alphabetical order\n",
    "all the animals in `Data/state-animals.csv`\n",
    "that start with “H”."
   ]
  },
  {
   "cell_type": "code",
   "execution_count": 16,
   "metadata": {
    "checks": "",
    "exercise_number": 2,
    "expected": "Harbor seal\nHawaiian monk seal\n",
    "tags": []
   },
   "outputs": [
    {
     "output_type": "stream",
     "name": "stdout",
     "text": "Bison\n"
    }
   ],
   "source": [
    "# Exercise 2\n",
    "import csv \n",
    "animals =[]\n",
    "file = open ('Data/state-animals.csv')\n",
    "for state, animal in csv.reader(file) :\n",
    "    animals.append(animal)\n",
    "print(animal)\n",
    "     "
   ]
  },
  {
   "cell_type": "markdown",
   "metadata": {},
   "source": [
    "**Exercise 3.** Next, write a program that prints\n",
    "in alphabetical order\n",
    "all the animals in `Data/state-animals.csv`\n",
    "that start with “R”."
   ]
  },
  {
   "cell_type": "code",
   "execution_count": null,
   "metadata": {
    "checks": "",
    "exercise_number": 3,
    "expected": "Raccoon\nRandall Lineback\nRight whale\nRing-tailed cat\nRocky Mountain elk\n"
   },
   "outputs": [],
   "source": [
    "# Exercise 3\n",
    "\n"
   ]
  },
  {
   "cell_type": "markdown",
   "metadata": {},
   "source": [
    "**Exercise 4.** Write a program that prints\n",
    "in alphabetical order\n",
    "all the whales in `Data/state-animals.csv`."
   ]
  },
  {
   "cell_type": "code",
   "execution_count": null,
   "metadata": {
    "checks": "",
    "exercise_number": 4,
    "expected": "Bowhead whale\nRight whale\nSperm whale\n"
   },
   "outputs": [],
   "source": [
    "# Exercise 4\n",
    "\n"
   ]
  },
  {
   "cell_type": "markdown",
   "metadata": {},
   "source": [
    "**Exercise 5.** Finally,\n",
    "write a program\n",
    "that prints in alphabetical order\n",
    "all of the animals in `Data/state-animals.csv`\n",
    "printing the name of each animal only once.\n",
    "(So, only one white-tailed deer down at the end of its output!)"
   ]
  },
  {
   "cell_type": "code",
   "execution_count": 10,
   "metadata": {
    "checks": "",
    "exercise_number": 5,
    "expected": "American badger\nBeaver\nBighorn sheep\nBison\nBlack bear\nBowhead whale\nCoyote\nFlorida panther\nGray fox\nGray squirrel\nGrizzly bear\nHarbor seal\nHawaiian monk seal\nMissouri mule\nMoose\nNine-banded armadillo\nOrca\nRaccoon\nRandall Lineback\nRight whale\nRing-tailed cat\nRocky Mountain elk\nSperm whale\nVirginia big-eared bat\nWhite-tailed deer\n",
    "tags": []
   },
   "outputs": [
    {
     "output_type": "stream",
     "name": "stdout",
     "text": "American badger\nBeaver\nBighorn sheep\nBison\nBlack bear\nBowhead whale\nCoyote\nFlorida panther\nGray fox\nGray squirrel\nGrizzly bear\nHarbor seal\nHawaiian monk seal\nMissouri mule\nMoose\nNine-banded armadillo\nOrca\nRaccoon\nRandall Lineback\nRight whale\nRing-tailed cat\nRocky Mountain elk\nSperm whale\nVirginia big-eared bat\nWhite-tailed deer\n"
    }
   ],
   "source": [
    "# Exercise 5\n",
    "import csv \n",
    "animals =[]\n",
    "file = open ('Data/state-animals.csv')\n",
    "for state, animal in csv.reader(file) :\n",
    "    animals.append(animal)\n",
    "animals.sort()\n",
    "prevous = ''\n",
    "for animal in animals:\n",
    "    if animal != prevous:\n",
    "        prevous = animal\n",
    "        print(animal)\n",
    "\n"
   ]
  },
  {
   "cell_type": "code",
   "execution_count": null,
   "metadata": {},
   "outputs": [],
   "source": []
  },
  {
   "cell_type": "code",
   "execution_count": null,
   "metadata": {},
   "outputs": [],
   "source": []
  }
 ],
 "metadata": {
  "kernelspec": {
   "display_name": "Python 3.8.5 64-bit",
   "language": "python",
   "name": "python_defaultSpec_1600700590432"
  },
  "language_info": {
   "codemirror_mode": {
    "name": "ipython",
    "version": 3
   },
   "file_extension": ".py",
   "mimetype": "text/x-python",
   "name": "python",
   "nbconvert_exporter": "python",
   "pygments_lexer": "ipython3",
   "version": "3.8.5-final"
  }
 },
 "nbformat": 4,
 "nbformat_minor": 4
}