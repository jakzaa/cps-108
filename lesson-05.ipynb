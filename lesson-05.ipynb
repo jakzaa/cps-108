{
 "cells": [
  {
   "cell_type": "markdown",
   "metadata": {},
   "source": [
    "# Lesson 5\n",
    "\n",
    "After several weeks of working with the state animals CSV file,\n",
    "it’s time for us to tackle something bigger.\n",
    "\n",
    "Let’s got to the movies!\n",
    "\n",
    "Run the first cell in the accompanying `downloads.ipynb` notebook\n",
    "to download the large `Data/movie-cast.csv` file\n",
    "that will power our next few lessons.\n",
    "Beware that the download might take a minute or two,\n",
    "so have patience and wait until the notebook tells you `Done!`\n",
    "before proceeding."
   ]
  },
  {
   "cell_type": "code",
   "execution_count": 6,
   "metadata": {
    "tags": []
   },
   "outputs": [
    {
     "output_type": "stream",
     "name": "stdout",
     "text": "\u001b[32m┌─────────────────────┐\n│ Welcome to lesson 5 │\n└─────────────────────┘\u001b[0m"
    }
   ],
   "source": [
    "from course_engine import start_lesson\n",
    "start_lesson(5)\n"
   ]
  },
  {
   "cell_type": "markdown",
   "metadata": {},
   "source": [
    "**Exercise 1.** Here is the incantation you can use to loop across the file:\n",
    "\n",
    "```\n",
    "import csv\n",
    "f = open('Data/movie-cast.csv')\n",
    "for movie, rank, actor, character in csv.reader(f):\n",
    "    pass\n",
    "```\n",
    "\n",
    "Let’s see how big the file is!\n",
    "Print the number of lines in the file.\n"
   ]
  },
  {
   "cell_type": "code",
   "execution_count": 7,
   "metadata": {
    "checks": "",
    "exercise_number": 1,
    "expected": "2080607\n",
    "tags": []
   },
   "outputs": [
    {
     "output_type": "execute_result",
     "data": {
      "text/plain": "<IPython.core.display.HTML object>",
      "text/html": "<pre>2080607\n\n<span class=\"ansi-green-fg\" style=\"color: #4f4\">┌────────────────────────────────────────────┐\n│ </span><span class=\"ansi-green-fg\" style=\"color: #4f4\">✔ Your output looks correct</span><span class=\"ansi-green-fg\" style=\"color: #4f4\">                │\n│                                            │\n│ Good job! You have completed this exercise │\n└────────────────────────────────────────────┘</span>\n</pre>"
     },
     "metadata": {},
     "execution_count": 7
    }
   ],
   "source": [
    "# Exercise 1\n",
    "import csv \n",
    "f = open ('Data/movie-cast.csv', encoding='utf-8')\n",
    "n  = 0\n",
    "for movie, rank, actor, character in csv.reader(f):\n",
    "    n = n + 1\n",
    "print(n)\n",
    " "
   ]
  },
  {
   "cell_type": "markdown",
   "metadata": {},
   "source": [
    "**Exercise 2.** Each line of the file lists a character that a particular actor\n",
    "played in a particular movie.\n",
    "\n",
    "Print out, in alphabetical order, all the actors\n",
    "in “Sleuth (1972)”."
   ]
  },
  {
   "cell_type": "code",
   "execution_count": 8,
   "metadata": {
    "checks": "",
    "exercise_number": 2,
    "expected": "Alec Cawthorne\nEve (III) Channing\nJohn (II) Matthews\nLaurence Olivier\nMichael Caine\nTeddy Martin\n",
    "tags": []
   },
   "outputs": [
    {
     "output_type": "execute_result",
     "data": {
      "text/plain": "<IPython.core.display.HTML object>",
      "text/html": "<pre>Alec Cawthorne\nEve (III) Channing\nJohn (II) Matthews\nLaurence Olivier\nMichael Caine\nTeddy Martin\n\n<span class=\"ansi-green-fg\" style=\"color: #4f4\">┌────────────────────────────────────────────┐\n│ </span><span class=\"ansi-green-fg\" style=\"color: #4f4\">✔ Your output looks correct</span><span class=\"ansi-green-fg\" style=\"color: #4f4\">                │\n│                                            │\n│ Good job! You have completed this exercise │\n└────────────────────────────────────────────┘</span>\n</pre>"
     },
     "metadata": {},
     "execution_count": 8
    }
   ],
   "source": [
    "# Exercise 2\n",
    "import csv \n",
    "file = open ('Data/movie-cast.csv', encoding='utf-8')\n",
    "actors = []\n",
    "for movie, rank, actor, charter in csv.reader(file) :\n",
    "     if movie == \"Sleuth (1972)\" :\n",
    "         actors.append(actor)\n",
    "actors.sort()\n",
    "prevous = ''\n",
    "for actor in actors:\n",
    "    if actor != prevous:\n",
    "        prevous = actor\n",
    "        print(actor)\n",
    "\n",
    "\n"
   ]
  },
  {
   "cell_type": "markdown",
   "metadata": {},
   "source": [
    "**Exercise 3.** Which movie has the longest name? Print its name."
   ]
  },
  {
   "cell_type": "code",
   "execution_count": 9,
   "metadata": {
    "checks": "",
    "exercise_number": 3,
    "expected": "Brigitte, Laura, Ursula, Monica, Raquel, Litz, Florinda, Barbara, Claudia, e Sofia le chiamo tutte... anima mia (1974)\n",
    "tags": []
   },
   "outputs": [
    {
     "output_type": "execute_result",
     "data": {
      "text/plain": "<IPython.core.display.HTML object>",
      "text/html": "<pre>The Space Between Us (2017)\nPesadilla para un rico (1996)\nA Second Chance (2017)\nThe Mystic Tales of Nikolas Winter (2012)\nAxel Munthe - Der Arzt von San Michele (1962)\nThe Man Who Shot Liberty Valance (1962)\nThe Insatiable Moon (2010)\nL&#39;arbre de Guernica (1975)\nAmber Dreams (2010)\nSonny Boy (2011)\nDesolate (II) (2017)\nOutlaw (2007)\nSuck It Up (2017)\nLe legioni di Cleopatra (1959)\nCapture the White Flag (1994)\nThunder Mountain (1947)\nLincoln (2012)\nMajstor i Sampita (1986)\nI due toreri (1964)\nSecond Chances (III) (2013)\nUnconditional Love (2002)\nSurrender (1987)\nFist of Honor (1993)\nYou and I (2011)\nSevimli Tehlikeli (2015)\nAntikaci (2015)\nThe Emerald Forest (1985)\nViolated (1953)\nA Very Special Favor (1965)\nJust Visiting (2001)\nCQ2 (Seek You Too) (2004)\nBonneville (2006)\nKarniggels (1991)\nBang Boom Bang - Ein todsicheres Ding (1999)\nLockhart: Unleashing the Talisman (2016)\nWithin (2009)\nPalmdale (2014)\nMuppets Most Wanted (2014)\nZamaane Ko Dikhana Hai (1981)\nJust One Night (2000)\nPieklo i niebo (1966)\nCry for Me, Billy (1972)\nDevils Racecourse (2009)\nMoving (1988)\nJuntos, pero no revueltos (1939)\nKlassefesten 2: Begravelsen (2014)\nThe Longest Ride (2015)\nEiszeit (1975)\nNew Love for Old (1918)\nMees Kees op kamp (2013)\nMarupadi (2016)\nThe Last Survivors (2014)\nRide a Crooked Mile (1938)\nCelos (1999)\nThe Out-of-Towners (1999)\nLe jour attendra (2013)\nEating Out: All You Can Eat (2009)\nTen okrutny, nikczemny chlopak (1972)\nGreat World of Sound (2007)\nThe Heckler (2014)\nArchetype (2012)\nUpside Down (2012)\nRepo Man (1984)\nRough Diamonds (1995)\nThe Country Cousin (1919)\nDas Recht auf Liebe (1939)\nAll Women Have Secrets (1939)\nYoung Widow (1946)\nHeaven (1998)\nDe Repente (2016)\nVorvik (2005)\nHow to Succeed in Business Without Really Trying (1967)\nDemain tout commence (2016)\nAurore (2017)\nLove &amp; Basketball (2000)\nThe Sumo Wrestler (2012)\nIn de schaduw van de overwinning (1986)\nHot Saturday (1932)\nPretty Hattie&#39;s Baby (1991)\nCasanova Brown (1944)\nSoul Men (2008)\nDina e Django (1981)\nNic smiesznego (1995)\nDakota (1945)\nI Was an Adventuress (1940)\nBank Chor (2017)\nLe monachine (1963)\nThe Vigilantes Are Coming (1936)\nSimon Birch (1998)\nMay daga sa labas ng lungga (1984)\nTowheads (2013)\nNyitva (2018)\nA Goofy Movie (1995)\nYing hung boon sik II (1987)\nCorregidor (1943)\nNaam Gum Jaayega (2005)\nMy Apocalyptic Thanksgiving (2017)\nLethal Justice (1991)\nThe Shamrock Handicap (1926)\nThe Rainbow Kid (2015)\nMarvin&#39;s Room (1996)\nOne Good Cop (1991)\n500! (2001)\nKal Ki Awaz (1992)\nSoul Search (2008)\nShart (1986)\nDe la calle (2001)\nMagyar rekviem (1990)\nRitual (2000)\nFrom Justin to Kelly (2003)\nUnder the Blood-Red Sun (2014)\nA Sombra dos Abutres (1998)\nHer Accidental Husband (1923)\nUlybka Boga, ili Chisto odesskaya istoriya (2008)\nMiss Violence (2013)\nNu zi jian yu (1988)\nStardust on the Sage (1942)\nStarship: Apocalypse (2014)\nSasneham Sumithra (2004)\nMagic Sticks (1987)\nStars Are Already Dead (2016)\nKindred Spirits (2018)\nBarbara Frietchie (1915)\nEast L.A. Warriors (1989)\nDemain? (2011)\nThe Runaway (2016)\nRun Robot Run! (2006)\nSovsem propashchiy (1973)\nOperator (II) (2016)\nLove My Guts (2000)\nLa portatrice di pane (1950)\nDJ Dance Time (1964)\nMidnight Heat (1995)\nThe Man from Orlando (2012)\nNotre-Dame de Paris (1956)\nOne Kine Day (2011)\nThe Group (1966)\nVenus vor Gericht (1941)\nSuper Sucker (2002)\nFrontier Days (1934)\nThe Good Shepherd (2006)\nLoves Her Gun (2013)\nGunblast Vodka (2000)\nThe Village (2004)\nThe Rhino Brothers (2001)\nDad Rudd, M.P. (1940)\nHigh Finance (1933)\nRena (1939)\nHome Alone da Riber (2002)\nKees de zoon van de stroper (1950)\nOdia il prossimo tuo (1968)\nMartha (2010)\nThey Made Me a Fugitive (1947)\nSpork (2010)\nMorsiusseppele (1954)\nA Sensuous Summer (1991)\nKafka (1991)\nIttefaq (2001)\nThe Cookout (2004)\nKulkurin valssi (1941)\nWhy Bring That Up? (1929)\nTropical Snow (1988)\nRansom (1996)\nSunset (1988)\nAbenteuer im Engadin (1932)\nWarkill (1968)\nThe Young Americans (1993)\nTwin Sitters (1994)\nTitanic (1997)\nLe violon rouge (1998)\nTango (1936)\nBach&#39;s Fight for Freedom (1995)\nShe Lives Her Life (2014)\nElectroma (2006)\nWas nicht passt, wird passend gemacht (2002)\nThe Glitterball (1977)\nAgent 505 - Todesfalle Beirut (1966)\nBeautiful But Broke (1944)\nThe 20 Questions Murder Mystery (1950)\nMurder Magic (1994)\nFantastic Four (2005)\nPaha maa (2005)\nPocketful of Miracles (1961)\nThe Rum Diary (2011)\nLos piratas (1986)\nThe Showdown (1940)\nDer Major und die Stiere (1955)\nMan spricht deutsh (1988)\nU ime oca i sina (1999)\nEnsam Tillsammans (2014)\nWild on the Beach (1965)\nDeserted (2016)\nThe Forest Rangers (1942)\nLes aventures de Rabbi Jacob (1973)\nThe Versace Murder (1998)\nCar-Napping - Bestellt, geklaut, geliefert (1980)\nWho Are You? (2002)\nThe Bounce Back (2016)\nKafka (1991)\nThe Perfect Love Song (2011)\nHigh Society (1956)\nRunning Scared (1972)\nOrkney Snork Nie! (die movie): &#39;Dis Lekker By Die See&#39; (1992)\nQuartier lointain (2010)\nArrowhead (2016)\nMusic and Lyrics (2007)\nArrival (II) (2016)\nHei de Vencer (1924)\nJuno and the Paycock (1930)\n24 Oras (1966)\nKill Speed (2010)\nName the Woman (1934)\nGrey Sheep (2013)\nThe Dancers (1930)\nLos caifanes (1967)\nFunny Ha Ha (2002)\nCity Hall (1996)\nLight (2010)\nLos desesperados (1969)\nSamounistuvanje (1996)\nA/R: Andata+ritorno (2004)\nHoly Man (1998)\nTacones lejanos (1991)\nThe Old, Old Story (2015)\nDe rouille et d&#39;os (2012)\nMano po 7: Chinoy (2016)\nBetter Off Single (2016)\nIl medico della mutua (1968)\nGlitch! (1988)\nMarch or Die (1977)\nOblivion 2: Backlash (1996)\nVacation (2015)\nThe Big Lift (1950)\nZift (2008)\nWanderlust (2012)\nAssignment in Brittany (1943)\nWest New York (1996)\nHena maysara (2007)\nUncle Tom&#39;s Cabin (1914)\nCars 3 (2017)\nJus primae noctis (1972)\nLes valseuses (1974)\nJhankaar Beats (2003)\nMakom be-gan eden (2013)\nVom Schicksal verweht (1942)\nDeux hommes dans la ville (1973)\nTerror Inside (2008)\nGothic Assassins (2012)\nYankee Zulu (1993)\nThree Wishes (1995)\nThriller (1979)\nJustino, un asesino de la tercera edad (1994)\nSchool for Randle (1949)\nBlack Widow (2010)\nCastle in the Air (1952)\nBeneath the Harvest Sky (2013)\nKingsman: The Golden Circle (2017)\nSlaughter&#39;s Big Rip-Off (1973)\nOye Lucky! Lucky Oye! (2008)\nThe Adventures of Smilin&#39; Jack (1943)\nGoing the Distance (2010)\nHappy Go Lovely (1951)\nSubete ga kurutteru (1960)\nGayby (2012)\nCold Readings (2004)\nRommel ruft Kairo (1959)\nWestern Courage (1927)\nQuando c&#39;era lui... caro lei! (1978)\nThe Fourteenth Man (1920)\nSalvation (1998)\nBoy Negro (1988)\nTotal Kheops (2002)\nNebo iznad krajolika (2006)\nThe Egoists (2003)\nKyoko (1996)\nLa Pica sul Pacifico (1959)\nA Man Possessed (2016)\nGong yuan 2000 AD (2000)\nThe Hangover Part II (2011)\nIntimate Nights (1998)\nDer Film deines Lebens (2011)\nXanadu (1980)\nThe Cheyenne Social Club (1970)\nCrimes and Mister Meanors (2015)\nMurder at 1600 (1997)\nThe Girl in the Red Velvet Swing (1955)\nI Accuse (1916)\nL&#39;occitanienne (2006)\nNicky Newark (2010)\nRoyalat (1979)\nIch und meine Frau (1953)\nUnderdogs: Born to Lose (2009)\nZig Zig (1975)\nRoad to Rio (1947)\nNine 1/2 Weeks (1986)\nWild Thing (1987)\nComme tout le monde (2006)\nSurrender (1931)\n<span class=\"ansi-yellow-fg\" style=\"color: #ff2\">Traceback (most recent call last):</span>\n  File &#34;c:\\Users\\zackj\\.vscode\\cps-108\\course_engine.py&#34;, line 201, in run_code\n    eval(compiled, {}, local_scope)\n  File &#34;Exercise 3&#34;, line 6, in &lt;module&gt;\n    for movie, rank, actor, character in csv.reader(file) :\n  File &#34;C:\\Program Files\\WindowsApps\\PythonSoftwareFoundation.Python.3.8_3.8.1520.0_x64__qbz5n2kfra8p0\\lib\\encodings\\cp1252.py&#34;, line 23, in decode\n    return codecs.charmap_decode(input,self.errors,decoding_table)[0]\n<span class=\"ansi-yellow-fg\" style=\"color: #ff2\">UnicodeDecodeError: &#39;charmap&#39; codec can&#39;t decode byte 0x81 in position 4882: character maps to &lt;undefined&gt;</span>\n\n</pre>"
     },
     "metadata": {},
     "execution_count": 9
    }
   ],
   "source": [
    "# Exercise 3\n",
    "\n",
    "import csv \n",
    "winner = ''\n",
    "file = open ('Data/movie-cast.csv')\n",
    "for movie, rank, actor, character in csv.reader(file) :\n",
    "    if len (movie) > len (winner):\n",
    "        winner = movie \n",
    "    print(movie)"
   ]
  },
  {
   "cell_type": "markdown",
   "metadata": {},
   "source": [
    "**Exercise 4.** Print out, in alphabetical order, the names of all the movies\n",
    "that starred Chadwick Boseman."
   ]
  },
  {
   "cell_type": "code",
   "execution_count": 12,
   "metadata": {
    "checks": "",
    "exercise_number": 4,
    "expected": "42 (2013)\nBlack Panther (2018)\nCaptain America: Civil War (2016)\nDraft Day (2014)\nGet on Up (2014)\nGods of Egypt (2016)\nMessage from the King (2016)\nThe Express (2008)\nThe Kill Hole (2012)\n"
   },
   "outputs": [
    {
     "output_type": "execute_result",
     "data": {
      "text/plain": "<IPython.core.display.HTML object>",
      "text/html": "<pre><span class=\"ansi-yellow-fg\" style=\"color: #ff2\">Traceback (most recent call last):</span>\n  File &#34;c:\\Users\\zackj\\.vscode\\cps-108\\course_engine.py&#34;, line 201, in run_code\n    eval(compiled, {}, local_scope)\n  File &#34;Exercise 4&#34;, line 8, in &lt;module&gt;\n    movie.sort()\n<span class=\"ansi-yellow-fg\" style=\"color: #ff2\">AttributeError: &#39;str&#39; object has no attribute &#39;sort&#39;</span>\n\n</pre>"
     },
     "metadata": {},
     "execution_count": 12
    }
   ],
   "source": [
    "# Exercise 4\n",
    "import csv \n",
    "file = open ('Data/movie-cast.csv', encoding='utf-8')\n",
    "movies = []\n",
    "for movie, rank, actor, charter in csv.reader(file) :\n",
    "     if actor == \"Chadwick Boseman\" :\n",
    "         movies.append(movie)\n",
    "movie.sort()\n",
    "prevous = ''\n",
    "for movie in movies:\n",
    "    if movie != prevous:\n",
    "        prevous = movie\n",
    "        print(movie)\n",
    "\n"
   ]
  },
  {
   "cell_type": "markdown",
   "metadata": {},
   "source": [
    "**Exercise 5.** Print out, in alphabetical order, the names of all the characters\n",
    "played by Chadwick Boseman (include duplicates)."
   ]
  },
  {
   "cell_type": "code",
   "execution_count": null,
   "metadata": {
    "checks": "",
    "exercise_number": 5,
    "expected": "Black Panther/T'Challa\nBlack Panther/T'Challa\nFloyd Little\nJackie Robinson\nJacob King\nJames Brown\nLt. Samuel Drake\nThoth\nVontae Mack\n"
   },
   "outputs": [],
   "source": [
    "# Exercise 5\n",
    "\n"
   ]
  },
  {
   "cell_type": "markdown",
   "metadata": {},
   "source": [
    "**Exercise 6.** Print out, in alphabetical order, the names of all the movies\n",
    "that have a character named “James Bond”."
   ]
  },
  {
   "cell_type": "code",
   "execution_count": null,
   "metadata": {
    "checks": "",
    "exercise_number": 6,
    "expected": "10 Endrathukulla (2015)\nA Fool's Paradise (2013)\nA View to a Kill (1985)\nAshakara (1991)\nBhajarangi (2013)\nCasino Royale (2006)\nDeemonid (2012)\nDiamonds Are Forever (1971)\nDie Another Day (2002)\nDr. No (1962)\nEpic Movie (2007)\nFrom Russia with Love (1963)\nGam gai (2002)\nGoldenEye (1995)\nGoldenrock (1999)\nGoldfinger (1964)\nLi san jiao wei zhen di yu men (1977)\nLicence to Kill (1989)\nLive and Let Die (1973)\nMoonraker (1979)\nNever Say Never Again (1983)\nOctopussy (1983)\nOn Her Majesty's Secret Service (1969)\nOutwitted (II) (1917)\nQuantum of Solace (2008)\nReflection of the Soul (2013)\nSkyfall (2012)\nSpectre (2015)\nThe Living Daylights (1987)\nThe Man with the Golden Gun (1974)\nThe Price of Loyalty (2008)\nThe Spy Who Loved Me (1977)\nThe World Is Not Enough (1999)\nThunderball (1965)\nTomorrow Never Dies (1997)\nYou Only Live Twice (1967)\n"
   },
   "outputs": [],
   "source": [
    "# Exercise 6\n",
    "\n"
   ]
  },
  {
   "cell_type": "markdown",
   "metadata": {},
   "source": [
    "**Exercise 7.** Print out, in alphabetical order, the names of all the characters\n",
    "that Meryl Streep has played."
   ]
  },
  {
   "cell_type": "code",
   "execution_count": null,
   "metadata": {
    "checks": "",
    "exercise_number": 7,
    "expected": "Altha Carter\nAnna/Sarah Woodruff\nAnne Marie\nAunt Josephine\nBlue Mecha\nBrooke Reynolds\nChief Elder\nClara\nClarissa Vaughan\nCorrine Whitman\nDonna\nDr. Carolyn Ryan\nEleanor Shaw\nEmmeline Pankhurst\nFlorence Foster Jenkins\nFrancesca Johnson\nGail Hartman\nHelen\nJane Adler\nJanine Roth\nJill\nJoanna Kramer\nJoanna Silver\nJulia\nJulia Child\nKaren\nKaren Silkwood\nKaren Traynor\nKate Gulden\nKate Mundy\nKay\nKay Graham\nLee\nLila Ross\nLinda\nLindy\nLisa Metzger\nMargaret Thatcher\nMary Fisher\nMiranda Priestly\nMolly Gilmore\nMrs. Fox\nQueen\nRachel\nRicki\nRoberta Guaspari\nSister Aloysius Beauvier\nSophie\nStage 6\nSusan\nSusan Orlean\nSuzanne Vale\nViolet Weston\nWitch\nYolanda Johnson\n"
   },
   "outputs": [],
   "source": [
    "# Exercise 7\n",
    "\n"
   ]
  },
  {
   "cell_type": "markdown",
   "metadata": {},
   "source": [
    "**Exercise 8.** Write a program\n",
    "that prints the number of films Judi Dench has been in,\n",
    "then the number of films Meryl Streep has been in,\n",
    "then the name of whichever of those actresses has been in more films."
   ]
  },
  {
   "cell_type": "code",
   "execution_count": null,
   "metadata": {
    "checks": "",
    "exercise_number": 8,
    "expected": "51\n55\nMeryl Streep\n"
   },
   "outputs": [],
   "source": [
    "# Exercise 8\n",
    "\n"
   ]
  },
  {
   "cell_type": "markdown",
   "metadata": {},
   "source": [
    "**Exercise 9.** Of all of the movies that starred Chadwick Boseman,\n",
    "which had the largest cast (and, thus, the most rows in this CSV file)?\n",
    "Print both the name of the movie and the number of cast members."
   ]
  },
  {
   "cell_type": "code",
   "execution_count": null,
   "metadata": {
    "checks": "",
    "exercise_number": 9,
    "expected": "42 (2013)\n114\n"
   },
   "outputs": [],
   "source": [
    "# Exercise 9\n",
    "\n"
   ]
  }
 ],
 "metadata": {
  "kernelspec": {
   "display_name": "Python 3.8.5 64-bit",
   "language": "python",
   "name": "python_defaultSpec_1600700590434"
  },
  "language_info": {
   "codemirror_mode": {
    "name": "ipython",
    "version": 3
   },
   "file_extension": ".py",
   "mimetype": "text/x-python",
   "name": "python",
   "nbconvert_exporter": "python",
   "pygments_lexer": "ipython3",
   "version": "3.8.5-final"
  }
 },
 "nbformat": 4,
 "nbformat_minor": 4
}