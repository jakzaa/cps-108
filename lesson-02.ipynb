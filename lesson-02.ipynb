{
 "cells": [
  {
   "cell_type": "markdown",
   "metadata": {},
   "source": [
    "# Lesson 2\n",
    "\n",
    "Run the following cell to get started!"
   ]
  },
  {
   "cell_type": "code",
   "execution_count": 17,
   "metadata": {
    "tags": []
   },
   "outputs": [
    {
     "output_type": "stream",
     "name": "stdout",
     "text": "\u001b[32m┌─────────────────────┐\n│ Welcome to lesson 2 │\n└─────────────────────┘\u001b[0m"
    }
   ],
   "source": [
    "from course_engine import start_lesson\n",
    "start_lesson(2)\n"
   ]
  },
  {
   "cell_type": "markdown",
   "metadata": {},
   "source": [
    "**Exercise 1.** To print text from your Python program, call the `print()` function.\n",
    "The value inside the parentheses will be printed to the screen:\n",
    "```\n",
    "print('Welcome to Lesson 2.')\n",
    "```\n",
    "Try printing the string “Hello, world!”"
   ]
  },
  {
   "cell_type": "code",
   "execution_count": 4,
   "metadata": {
    "checks": "",
    "exercise_number": 1,
    "expected": "Hello, world!\n",
    "tags": []
   },
   "outputs": [
    {
     "output_type": "execute_result",
     "data": {
      "text/plain": "&lt;IPython.core.display.HTML object&gt;",
      "text/html": "<pre>Hello, world!\n\n<span class=\"ansi-green-fg\" style=\"color: #4f4\">┌────────────────────────────────────────────┐\n│ </span><span class=\"ansi-green-fg\" style=\"color: #4f4\">✔ Your output looks correct</span><span class=\"ansi-green-fg\" style=\"color: #4f4\">                │\n│                                            │\n│ Good job! You have completed this exercise │\n└────────────────────────────────────────────┘</span>\n</pre>"
     },
     "metadata": {},
     "execution_count": 4
    }
   ],
   "source": [
    "# Exercise 1\n",
    "print('Hello, world!')\n",
    "\n"
   ]
  },
  {
   "cell_type": "markdown",
   "metadata": {},
   "source": [
    "**Exercise 2.** Today’s exercises involve the exciting topic of state animals!\n",
    "Many state legislatures have at some point in their state’s history\n",
    "designated a particular kind of animal\n",
    "as particularly emblematic of their state.\n",
    "\n",
    "To loop over every state and animal in our state animals CSV file,\n",
    "use the following loop.\n",
    "For each line in the file,\n",
    "the `for` loop will run the intended code you place\n",
    "at the `…` symbol below:\n",
    "```\n",
    "import csv\n",
    "for state, animal in csv.reader(open('Data/state-animals.csv')):\n",
    "    …\n",
    "```\n",
    "In the block of code indented beneath the `for` loop,\n",
    "both `state` and `animal` will be defined and ready for use.\n",
    "\n",
    "As your first challenge, try printing all of the states\n",
    "that are listed in the state animals file."
   ]
  },
  {
   "cell_type": "code",
   "execution_count": 5,
   "metadata": {
    "checks": "",
    "exercise_number": 2,
    "expected": "Alabama\nAlaska\nArizona\nArkansas\nCalifornia\nColorado\nConnecticut\nDelaware\nFlorida\nGeorgia\nHawaii\nIllinois\nKansas\nKentucky\nLouisiana\nMaine\nMassachusetts\nMichigan\nMississippi\nMissouri\nMontana\nNebraska\nNevada\nNew Hampshire\nNew Mexico\nNew York\nNorth Carolina\nOhio\nOklahoma\nOregon\nPennsylvania\nRhode Island\nSouth Carolina\nSouth Dakota\nTennessee\nTexas\nUtah\nVermont\nVirginia\nWashington\nWest Virginia\nWisconsin\nWyoming\n",
    "tags": []
   },
   "outputs": [
    {
     "output_type": "execute_result",
     "data": {
      "text/plain": "&lt;IPython.core.display.HTML object&gt;",
      "text/html": "<pre>Alabama\nAlaska\nArizona\nArkansas\nCalifornia\nColorado\nConnecticut\nDelaware\nFlorida\nGeorgia\nHawaii\nIllinois\nKansas\nKentucky\nLouisiana\nMaine\nMassachusetts\nMichigan\nMississippi\nMissouri\nMontana\nNebraska\nNevada\nNew Hampshire\nNew Mexico\nNew York\nNorth Carolina\nOhio\nOklahoma\nOregon\nPennsylvania\nRhode Island\nSouth Carolina\nSouth Dakota\nTennessee\nTexas\nUtah\nVermont\nVirginia\nWashington\nWest Virginia\nWisconsin\nWyoming\n\n<span class=\"ansi-green-fg\" style=\"color: #4f4\">┌────────────────────────────────────────────┐\n│ </span><span class=\"ansi-green-fg\" style=\"color: #4f4\">✔ Your output looks correct</span><span class=\"ansi-green-fg\" style=\"color: #4f4\">                │\n│                                            │\n│ Good job! You have completed this exercise │\n└────────────────────────────────────────────┘</span>\n</pre>"
     },
     "metadata": {},
     "execution_count": 5
    }
   ],
   "source": [
    "# Exercise 2\n",
    "import csv\n",
    "for state, animal in csv.reader(open('Data/state-animals.csv')): \n",
    "    print(state)  \n",
    "\n",
    "\n"
   ]
  },
  {
   "cell_type": "markdown",
   "metadata": {},
   "source": [
    "**Exercise 3.** Now print the animals listed in `Data/state-animals.csv`,\n",
    "in the same order they are listed in the file.\n",
    "(You don’t need to try avoiding duplicates.)"
   ]
  },
  {
   "cell_type": "code",
   "execution_count": 6,
   "metadata": {
    "checks": "",
    "exercise_number": 3,
    "expected": "Black bear\nBowhead whale\nRing-tailed cat\nWhite-tailed deer\nGrizzly bear\nBighorn sheep\nSperm whale\nGray fox\nFlorida panther\nWhite-tailed deer\nHawaiian monk seal\nWhite-tailed deer\nBison\nGray squirrel\nBlack bear\nMoose\nRight whale\nWhite-tailed deer\nWhite-tailed deer\nMissouri mule\nGrizzly bear\nWhite-tailed deer\nBighorn sheep\nWhite-tailed deer\nBlack bear\nBeaver\nGray squirrel\nWhite-tailed deer\nBison\nBeaver\nWhite-tailed deer\nHarbor seal\nWhite-tailed deer\nCoyote\nRaccoon\nNine-banded armadillo\nRocky Mountain elk\nRandall Lineback\nVirginia big-eared bat\nOrca\nBlack bear\nAmerican badger\nBison\n",
    "tags": []
   },
   "outputs": [
    {
     "output_type": "execute_result",
     "data": {
      "text/plain": "&lt;IPython.core.display.HTML object&gt;",
      "text/html": "<pre>Black bear\nBowhead whale\nRing-tailed cat\nWhite-tailed deer\nGrizzly bear\nBighorn sheep\nSperm whale\nGray fox\nFlorida panther\nWhite-tailed deer\nHawaiian monk seal\nWhite-tailed deer\nBison\nGray squirrel\nBlack bear\nMoose\nRight whale\nWhite-tailed deer\nWhite-tailed deer\nMissouri mule\nGrizzly bear\nWhite-tailed deer\nBighorn sheep\nWhite-tailed deer\nBlack bear\nBeaver\nGray squirrel\nWhite-tailed deer\nBison\nBeaver\nWhite-tailed deer\nHarbor seal\nWhite-tailed deer\nCoyote\nRaccoon\nNine-banded armadillo\nRocky Mountain elk\nRandall Lineback\nVirginia big-eared bat\nOrca\nBlack bear\nAmerican badger\nBison\n\n<span class=\"ansi-green-fg\" style=\"color: #4f4\">┌────────────────────────────────────────────┐\n│ </span><span class=\"ansi-green-fg\" style=\"color: #4f4\">✔ Your output looks correct</span><span class=\"ansi-green-fg\" style=\"color: #4f4\">                │\n│                                            │\n│ Good job! You have completed this exercise │\n└────────────────────────────────────────────┘</span>\n</pre>"
     },
     "metadata": {},
     "execution_count": 6
    }
   ],
   "source": [
    "# Exercise 3\n",
    "import csv\n",
    "for state, animal in csv.reader(open('Data/state-animals.csv')):\n",
    "    print(animal)\n",
    "\n"
   ]
  },
  {
   "cell_type": "markdown",
   "metadata": {},
   "source": [
    "**Exercise 4.** Programmers often need to count how many times a loop runs.\n",
    "An easy way to count is to start with zero\n",
    "then add one each time through the loop:\n",
    "```\n",
    "n = 0\n",
    "for … in …:\n",
    "    n = n + 1\n",
    "print(n)\n",
    "```\n",
    "Compute and print the number of lines in `Data/state-animals.csv`."
   ]
  },
  {
   "cell_type": "code",
   "execution_count": 19,
   "metadata": {
    "checks": "",
    "exercise_number": 4,
    "expected": "43\n",
    "tags": []
   },
   "outputs": [
    {
     "output_type": "execute_result",
     "data": {
      "text/plain": "&lt;IPython.core.display.HTML object&gt;",
      "text/html": "<pre>43\n\n<span class=\"ansi-green-fg\" style=\"color: #4f4\">┌────────────────────────────────────────────┐\n│ </span><span class=\"ansi-green-fg\" style=\"color: #4f4\">✔ Your output looks correct</span><span class=\"ansi-green-fg\" style=\"color: #4f4\">                │\n│                                            │\n│ Good job! You have completed this exercise │\n└────────────────────────────────────────────┘</span>\n</pre>"
     },
     "metadata": {},
     "execution_count": 19
    }
   ],
   "source": [
    "# Exercise 4\n",
    "import csv \n",
    "n = 0\n",
    "for state, animal in csv.reader(open('Data/state-animals.csv')):\n",
    "     n = n + 1\n",
    "print(n)\n"
   ]
  },
  {
   "cell_type": "markdown",
   "metadata": {},
   "source": [
    "**Exercise 5.** Python can not only print strings to the screen,\n",
    "but perform many useful operations on them.\n",
    "Here are three tests that Python can perform.\n",
    "In each case,\n",
    "the indented lines that follow the `if` statement\n",
    "will only run if the condition is true:\n",
    "```\n",
    "if string1 == string2: …\n",
    "if string2.startswith('Star Wars'): …\n",
    "if string2.endswith('The Empire Strikes Back'): …\n",
    "```\n",
    "Print the state animal of Texas."
   ]
  },
  {
   "cell_type": "code",
   "execution_count": 9,
   "metadata": {
    "checks": "",
    "exercise_number": 5,
    "expected": "Nine-banded armadillo\n",
    "tags": []
   },
   "outputs": [
    {
     "output_type": "execute_result",
     "data": {
      "text/plain": "&lt;IPython.core.display.HTML object&gt;",
      "text/html": "<pre>Nine-banded armadillo\n\n<span class=\"ansi-green-fg\" style=\"color: #4f4\">┌────────────────────────────────────────────┐\n│ </span><span class=\"ansi-green-fg\" style=\"color: #4f4\">✔ Your output looks correct</span><span class=\"ansi-green-fg\" style=\"color: #4f4\">                │\n│                                            │\n│ Good job! You have completed this exercise │\n└────────────────────────────────────────────┘</span>\n</pre>"
     },
     "metadata": {},
     "execution_count": 9
    }
   ],
   "source": [
    "# Exercise 5\n",
    "import csv\n",
    "for state, animal in csv.reader(open('Data/state-animals.csv')): \n",
    "    if state == 'Texas':\n",
    "     print(animal)"
   ]
  },
  {
   "cell_type": "markdown",
   "metadata": {},
   "source": [
    "**Exercise 6.** Print the state animal of Virginia."
   ]
  },
  {
   "cell_type": "code",
   "execution_count": 10,
   "metadata": {
    "checks": "",
    "exercise_number": 6,
    "expected": "Virginia big-eared bat\n",
    "tags": []
   },
   "outputs": [
    {
     "output_type": "execute_result",
     "data": {
      "text/plain": "&lt;IPython.core.display.HTML object&gt;",
      "text/html": "<pre>Virginia big-eared bat\n\n<span class=\"ansi-green-fg\" style=\"color: #4f4\">┌────────────────────────────────────────────┐\n│ </span><span class=\"ansi-green-fg\" style=\"color: #4f4\">✔ Your output looks correct</span><span class=\"ansi-green-fg\" style=\"color: #4f4\">                │\n│                                            │\n│ Good job! You have completed this exercise │\n└────────────────────────────────────────────┘</span>\n</pre>"
     },
     "metadata": {},
     "execution_count": 10
    }
   ],
   "source": [
    "# Exercise 6\n",
    "import csv\n",
    "for state, animal in csv.reader(open('Data/state-animals.csv')): \n",
    "    if state == 'Virginia':\n",
    "     print(animal)\n",
    "     \n"
   ]
  },
  {
   "cell_type": "markdown",
   "metadata": {},
   "source": [
    "**Exercise 7.** Print every state whose animal is the “Beaver”."
   ]
  },
  {
   "cell_type": "code",
   "execution_count": 11,
   "metadata": {
    "checks": "",
    "exercise_number": 7,
    "expected": "New York\nOregon\n",
    "tags": []
   },
   "outputs": [
    {
     "output_type": "execute_result",
     "data": {
      "text/plain": "&lt;IPython.core.display.HTML object&gt;",
      "text/html": "<pre>New York\nOregon\n\n<span class=\"ansi-green-fg\" style=\"color: #4f4\">┌────────────────────────────────────────────┐\n│ </span><span class=\"ansi-green-fg\" style=\"color: #4f4\">✔ Your output looks correct</span><span class=\"ansi-green-fg\" style=\"color: #4f4\">                │\n│                                            │\n│ Good job! You have completed this exercise │\n└────────────────────────────────────────────┘</span>\n</pre>"
     },
     "metadata": {},
     "execution_count": 11
    }
   ],
   "source": [
    "# Exercise 7\n",
    "import csv\n",
    "for state, animal in csv.reader(open('Data/state-animals.csv')): \n",
    "    if animal == 'Beaver':\n",
    "        print(state)\n",
    "\n"
   ]
  },
  {
   "cell_type": "markdown",
   "metadata": {},
   "source": [
    "**Exercise 8.** Print every animal that is some kind of “seal”."
   ]
  },
  {
   "cell_type": "code",
   "execution_count": 12,
   "metadata": {
    "checks": "",
    "exercise_number": 8,
    "expected": "Hawaiian monk seal\nHarbor seal\n",
    "tags": []
   },
   "outputs": [
    {
     "output_type": "execute_result",
     "data": {
      "text/plain": "&lt;IPython.core.display.HTML object&gt;",
      "text/html": "<pre>Hawaiian monk seal\nHarbor seal\n\n<span class=\"ansi-green-fg\" style=\"color: #4f4\">┌────────────────────────────────────────────┐\n│ </span><span class=\"ansi-green-fg\" style=\"color: #4f4\">✔ Your output looks correct</span><span class=\"ansi-green-fg\" style=\"color: #4f4\">                │\n│                                            │\n│ Good job! You have completed this exercise │\n└────────────────────────────────────────────┘</span>\n</pre>"
     },
     "metadata": {},
     "execution_count": 12
    }
   ],
   "source": [
    "# Exercise 8\n",
    "import csv\n",
    "for state, animal in csv.reader(open('Data/state-animals.csv')): \n",
    "    if animal.endswith('seal'):\n",
    "        print(animal)\n"
   ]
  },
  {
   "cell_type": "markdown",
   "metadata": {},
   "source": [
    "**Exercise 9.** Print every animal that is some kind of “whale”."
   ]
  },
  {
   "cell_type": "code",
   "execution_count": 13,
   "metadata": {
    "checks": "",
    "exercise_number": 9,
    "expected": "Bowhead whale\nSperm whale\nRight whale\n",
    "tags": []
   },
   "outputs": [
    {
     "output_type": "execute_result",
     "data": {
      "text/plain": "&lt;IPython.core.display.HTML object&gt;",
      "text/html": "<pre>Bowhead whale\nSperm whale\nRight whale\n\n<span class=\"ansi-green-fg\" style=\"color: #4f4\">┌────────────────────────────────────────────┐\n│ </span><span class=\"ansi-green-fg\" style=\"color: #4f4\">✔ Your output looks correct</span><span class=\"ansi-green-fg\" style=\"color: #4f4\">                │\n│                                            │\n│ Good job! You have completed this exercise │\n└────────────────────────────────────────────┘</span>\n</pre>"
     },
     "metadata": {},
     "execution_count": 13
    }
   ],
   "source": [
    "# Exercise 9\n",
    "import csv\n",
    "for state, animal in csv.reader(open('Data/state-animals.csv')): \n",
    "    if animal.endswith ('whale'):\n",
    "        print(animal)\n"
   ]
  },
  {
   "cell_type": "markdown",
   "metadata": {},
   "source": [
    "**Exercise 10.** Print every state whose animal is some kind of “bear”."
   ]
  },
  {
   "cell_type": "code",
   "execution_count": 14,
   "metadata": {
    "checks": "",
    "exercise_number": 10,
    "expected": "Alabama\nCalifornia\nLouisiana\nMontana\nNew Mexico\nWest Virginia\n",
    "tags": []
   },
   "outputs": [
    {
     "output_type": "execute_result",
     "data": {
      "text/plain": "&lt;IPython.core.display.HTML object&gt;",
      "text/html": "<pre>Alabama\nCalifornia\nLouisiana\nMontana\nNew Mexico\nWest Virginia\n\n<span class=\"ansi-green-fg\" style=\"color: #4f4\">┌────────────────────────────────────────────┐\n│ </span><span class=\"ansi-green-fg\" style=\"color: #4f4\">✔ Your output looks correct</span><span class=\"ansi-green-fg\" style=\"color: #4f4\">                │\n│                                            │\n│ Good job! You have completed this exercise │\n└────────────────────────────────────────────┘</span>\n</pre>"
     },
     "metadata": {},
     "execution_count": 14
    }
   ],
   "source": [
    "# Exercise 10\n",
    "import csv\n",
    "for state, animal in csv.reader(open('Data/state-animals.csv')): \n",
    "    if animal.endswith ('bear'):\n",
    "        print(state)\n",
    "\n"
   ]
  },
  {
   "cell_type": "markdown",
   "metadata": {},
   "source": [
    "**Exercise 11.** Print the number of states whose animal is the “Bison”."
   ]
  },
  {
   "cell_type": "code",
   "execution_count": 19,
   "metadata": {
    "checks": "",
    "exercise_number": 11,
    "expected": "3\n",
    "tags": []
   },
   "outputs": [
    {
     "output_type": "execute_result",
     "data": {
      "text/plain": "&lt;IPython.core.display.HTML object&gt;",
      "text/html": "<pre>3\n\n<span class=\"ansi-green-fg\" style=\"color: #4f4\">┌────────────────────────────────────────────┐\n│ </span><span class=\"ansi-green-fg\" style=\"color: #4f4\">✔ Your output looks correct</span><span class=\"ansi-green-fg\" style=\"color: #4f4\">                │\n│                                            │\n│ Good job! You have completed this exercise │\n└────────────────────────────────────────────┘</span>\n</pre>"
     },
     "metadata": {},
     "execution_count": 19
    }
   ],
   "source": [
    "# Exercise 11\n",
    "n = 0\n",
    "import csv\n",
    "for state, animal in csv.reader(open('Data/state-animals.csv')): \n",
    "    if animal.endswith('Bison'):\n",
    "        n = n + 1\n",
    "print(n)\n",
    "\n"
   ]
  },
  {
   "cell_type": "markdown",
   "metadata": {},
   "source": [
    "**Exercise 12.** Print the number of states whose animal is the “Black bear”."
   ]
  },
  {
   "cell_type": "code",
   "execution_count": 23,
   "metadata": {
    "checks": "",
    "exercise_number": 12,
    "expected": "4\n",
    "tags": []
   },
   "outputs": [
    {
     "output_type": "execute_result",
     "data": {
      "text/plain": "&lt;IPython.core.display.HTML object&gt;",
      "text/html": "<pre>4\n\n<span class=\"ansi-green-fg\" style=\"color: #4f4\">┌────────────────────────────────────────────┐\n│ </span><span class=\"ansi-green-fg\" style=\"color: #4f4\">✔ Your output looks correct</span><span class=\"ansi-green-fg\" style=\"color: #4f4\">                │\n│                                            │\n│ Good job! You have completed this exercise │\n└────────────────────────────────────────────┘</span>\n</pre>"
     },
     "metadata": {},
     "execution_count": 23
    }
   ],
   "source": [
    "# Exercise 12\n",
    "import csv\n",
    "n = 0\n",
    "for state, animal in csv.reader(open('Data/state-animals.csv')): \n",
    "    if animal.endswith('Black bear'):\n",
    "        n = n + 1\n",
    "print(n)\n"
   ]
  },
  {
   "cell_type": "markdown",
   "metadata": {},
   "source": [
    "**Exercise 13.** Print the number of states whose animal is any kind of “bear”."
   ]
  },
  {
   "cell_type": "code",
   "execution_count": 24,
   "metadata": {
    "checks": "",
    "exercise_number": 13,
    "expected": "6\n",
    "tags": []
   },
   "outputs": [
    {
     "output_type": "execute_result",
     "data": {
      "text/plain": "&lt;IPython.core.display.HTML object&gt;",
      "text/html": "<pre>6\n\n<span class=\"ansi-green-fg\" style=\"color: #4f4\">┌────────────────────────────────────────────┐\n│ </span><span class=\"ansi-green-fg\" style=\"color: #4f4\">✔ Your output looks correct</span><span class=\"ansi-green-fg\" style=\"color: #4f4\">                │\n│                                            │\n│ Good job! You have completed this exercise │\n└────────────────────────────────────────────┘</span>\n</pre>"
     },
     "metadata": {},
     "execution_count": 24
    }
   ],
   "source": [
    "# Exercise 13\n",
    "import csv\n",
    "n = 0\n",
    "for state, animal in csv.reader(open('Data/state-animals.csv')): \n",
    "    if animal.endswith('bear'):\n",
    "        n = n + 1\n",
    "print(n)\n"
   ]
  },
  {
   "cell_type": "markdown",
   "metadata": {},
   "source": [
    "**Exercise 14.** We will learn one last string operation today!\n",
    "You can compare two strings to learn which would come first in the dictionary —\n",
    "which comes first in alphabetical order.\n",
    "The test `S1 < S2` tells you if `S1` would come first in the dictionary,\n",
    "while `S1 > S2` tells you if `S1` would come later in the dictionary.\n",
    "\n",
    "Using that string operation,\n",
    "try printing the name of the animal that comes first in the alphabet."
   ]
  },
  {
   "cell_type": "code",
   "execution_count": 25,
   "metadata": {
    "checks": "",
    "exercise_number": 14,
    "expected": "American badger\n",
    "tags": []
   },
   "outputs": [
    {
     "output_type": "execute_result",
     "data": {
      "text/plain": "&lt;IPython.core.display.HTML object&gt;",
      "text/html": "<pre>American badger\n\n<span class=\"ansi-green-fg\" style=\"color: #4f4\">┌────────────────────────────────────────────┐\n│ </span><span class=\"ansi-green-fg\" style=\"color: #4f4\">✔ Your output looks correct</span><span class=\"ansi-green-fg\" style=\"color: #4f4\">                │\n│                                            │\n│ Good job! You have completed this exercise │\n└────────────────────────────────────────────┘</span>\n</pre>"
     },
     "metadata": {},
     "execution_count": 25
    }
   ],
   "source": [
    "# Exercise 14\n",
    "import csv\n",
    "winner = 'Sperm whale'\n",
    "for state, animal in csv.reader(open('Data/state-animals.csv')): \n",
    "    if animal < winner :\n",
    "     winner = animal\n",
    "print(winner)\n",
    "\n"
   ]
  },
  {
   "cell_type": "markdown",
   "metadata": {},
   "source": [
    "**Exercise 15.** Next try printing the name of the animal that comes last in the alphabet."
   ]
  },
  {
   "cell_type": "code",
   "execution_count": 20,
   "metadata": {
    "checks": "",
    "exercise_number": 15,
    "expected": "White-tailed deer\n",
    "tags": []
   },
   "outputs": [
    {
     "output_type": "execute_result",
     "data": {
      "text/plain": "&lt;IPython.core.display.HTML object&gt;",
      "text/html": "<pre>White-tailed deer\n\n<span class=\"ansi-green-fg\" style=\"color: #4f4\">┌────────────────────────────────────────────┐\n│ </span><span class=\"ansi-green-fg\" style=\"color: #4f4\">✔ Your output looks correct</span><span class=\"ansi-green-fg\" style=\"color: #4f4\">                │\n│                                            │\n│ Good job! You have completed this exercise │\n└────────────────────────────────────────────┘</span>\n</pre>"
     },
     "metadata": {},
     "execution_count": 20
    }
   ],
   "source": [
    "# Exercise 15\n",
    "import csv \n",
    "winner = 'American badger'\n",
    "for state, animal in csv.reader(open('Data/state-animals.csv')):\n",
    "    if animal > winner :\n",
    "        winner = animal \n",
    "print(winner)\n"
   ]
  },
  {
   "cell_type": "markdown",
   "metadata": {},
   "source": [
    "**Exercise 16.** Your final challenge!\n",
    "\n",
    "Believe it or not,\n",
    "you now have all the tools you need\n",
    "to run a popularity context between state animals.\n",
    "But the challenge is a very difficult one\n",
    "and you might not find an answer on your first try.\n",
    "\n",
    "Here goes: print the name of the most popular state animal,\n",
    "followed by the names of the states it belongs to!"
   ]
  },
  {
   "cell_type": "code",
   "execution_count": 27,
   "metadata": {
    "checks": "",
    "exercise_number": 16,
    "expected": "White-tailed deer\nArkansas\nGeorgia\nIllinois\nMichigan\nMississippi\nNebraska\nNew Hampshire\nOhio\nPennsylvania\nSouth Carolina\n",
    "tags": []
   },
   "outputs": [
    {
     "output_type": "execute_result",
     "data": {
      "text/plain": "&lt;IPython.core.display.HTML object&gt;",
      "text/html": "<pre>White-tailed deer\nArkansas\nGeorgia\nIllinois\nMichigan\nMississippi\nNebraska\nNew Hampshire\nOhio\nPennsylvania\nSouth Carolina\n\n<span class=\"ansi-green-fg\" style=\"color: #4f4\">┌────────────────────────────────────────────┐\n│ </span><span class=\"ansi-green-fg\" style=\"color: #4f4\">✔ Your output looks correct</span><span class=\"ansi-green-fg\" style=\"color: #4f4\">                │\n│                                            │\n│ Good job! You have completed this exercise │\n└────────────────────────────────────────────┘</span>\n</pre>"
     },
     "metadata": {},
     "execution_count": 27
    }
   ],
   "source": [
    "# Exercise 16\n",
    "import csv\n",
    "winner_score = 0\n",
    "winner_animal = ' '\n",
    "for state1, animal1 in csv.reader(open('Data/state-animals.csv')):\n",
    "    n = 0\n",
    "    for state2, animal2, in csv.reader(open('Data/state-animals.csv')):\n",
    "        if animal2 == animal1:\n",
    "            n = n + 1\n",
    "        #animal\n",
    "            if n > winner_score:\n",
    "                winner_score = n\n",
    "                winner_animal1 = animal1\n",
    "print(winner_animal1)\n",
    "for state, animal in csv.reader(open('Data/state-animals.csv')):\n",
    "    if animal == winner_animal1: print(state)\n",
    "\n",
    "\n",
    "   \n",
    "\n"
   ]
  },
  {
   "cell_type": "code",
   "execution_count": null,
   "metadata": {},
   "outputs": [],
   "source": []
  },
  {
   "cell_type": "code",
   "execution_count": null,
   "metadata": {},
   "outputs": [],
   "source": []
  }
 ],
 "metadata": {
  "kernelspec": {
   "name": "Python 3.8.6 64-bit",
   "display_name": "Python 3.8.6 64-bit",
   "metadata": {
    "interpreter": {
     "hash": "1055211a01a199a6526f0d26b382149a8a94758ea3cbdda7adbe114d72853fd0"
    }
   }
  },
  "language_info": {
   "codemirror_mode": {
    "name": "ipython",
    "version": 3
   },
   "file_extension": ".py",
   "mimetype": "text/x-python",
   "name": "python",
   "nbconvert_exporter": "python",
   "pygments_lexer": "ipython3",
   "version": "3.8.6-final"
  }
 },
 "nbformat": 4,
 "nbformat_minor": 4
}