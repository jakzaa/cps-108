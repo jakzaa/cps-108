{
 "cells": [
  {
   "cell_type": "markdown",
   "metadata": {},
   "source": [
    "# Lesson 3\n",
    "\n",
    "Every time you open this notebook,\n",
    "run this top cell first:"
   ]
  },
  {
   "cell_type": "code",
   "execution_count": 1,
   "metadata": {
    "tags": []
   },
   "outputs": [
    {
     "output_type": "stream",
     "name": "stdout",
     "text": "\u001b[32m┌─────────────────────┐\n│ Welcome to lesson 3 │\n└─────────────────────┘\u001b[0m"
    }
   ],
   "source": [
    "from course_engine import start_lesson\n",
    "start_lesson(3)\n",
    " "
   ]
  },
  {
   "cell_type": "markdown",
   "metadata": {},
   "source": [
    "**Exercise 1.** Let’s practice the skills we learned in Lesson 2.\n",
    "Here’s the pattern we were using\n",
    "to loop over every line in the charming “state animals” file:\n",
    "```\n",
    "import csv\n",
    "file = open('Data/state-animals.csv')\n",
    "for state, animal in csv.reader(file):\n",
    "    print(state, animal)\n",
    "```\n",
    "Write a short program that figures out which state name\n",
    "comes last in the alphabet, and prints it."
   ]
  },
  {
   "cell_type": "code",
   "execution_count": 2,
   "metadata": {
    "checks": "",
    "exercise_number": 1,
    "expected": "Wyoming\n",
    "tags": []
   },
   "outputs": [
    {
     "output_type": "execute_result",
     "data": {
      "text/plain": "&lt;IPython.core.display.HTML object&gt;",
      "text/html": "<pre>Wyoming\n\n<span class=\"ansi-green-fg\" style=\"color: #4f4\">┌────────────────────────────────────────────┐\n│ </span><span class=\"ansi-green-fg\" style=\"color: #4f4\">✔ Your output looks correct</span><span class=\"ansi-green-fg\" style=\"color: #4f4\">                │\n│                                            │\n│ Good job! You have completed this exercise │\n└────────────────────────────────────────────┘</span>\n</pre>"
     },
     "metadata": {},
     "execution_count": 2
    }
   ],
   "source": [
    "# Exercise 1\n",
    "import csv \n",
    "winner = 'A'\n",
    "file = open ('Data/state-animals.csv')\n",
    "for state, animal in csv.reader(file) :\n",
    "    if state > winner :\n",
    "     winner = state \n",
    "print(winner) \n",
    " "
   ]
  },
  {
   "cell_type": "markdown",
   "metadata": {},
   "source": [
    "**Exercise 2.** Write a program that figures out which state name\n",
    "comes first in the alphabet, and prints it."
   ]
  },
  {
   "cell_type": "code",
   "execution_count": 3,
   "metadata": {
    "checks": "",
    "exercise_number": 2,
    "expected": "Alabama\n",
    "tags": []
   },
   "outputs": [
    {
     "output_type": "execute_result",
     "data": {
      "text/plain": "&lt;IPython.core.display.HTML object&gt;",
      "text/html": "<pre>Alabama\n\n<span class=\"ansi-green-fg\" style=\"color: #4f4\">┌────────────────────────────────────────────┐\n│ </span><span class=\"ansi-green-fg\" style=\"color: #4f4\">✔ Your output looks correct</span><span class=\"ansi-green-fg\" style=\"color: #4f4\">                │\n│                                            │\n│ Good job! You have completed this exercise │\n└────────────────────────────────────────────┘</span>\n</pre>"
     },
     "metadata": {},
     "execution_count": 3
    }
   ],
   "source": [
    "# Exercise 2\n",
    "import csv \n",
    "winner = 'Z'\n",
    "file = open ('Data/state-animals.csv')\n",
    "for state, animal in csv.reader(file) :\n",
    "    if state < winner :\n",
    "        winner = state \n",
    "print(winner) \n",
    "\n"
   ]
  },
  {
   "cell_type": "markdown",
   "metadata": {},
   "source": [
    "**Exercise 3.** Now let’s go beyond Lesson 2 and learn a new feature!\n",
    "In Python, `len()` returns the length of a string.\n",
    "```\n",
    "len('Alaska')  # returns the number 6\n",
    "```\n",
    "Write a program that prints out the longest animal name."
   ]
  },
  {
   "cell_type": "code",
   "execution_count": 4,
   "metadata": {
    "checks": "",
    "exercise_number": 3,
    "expected": "Bison\n",
    "tags": []
   },
   "outputs": [
    {
     "output_type": "execute_result",
     "data": {
      "text/plain": "&lt;IPython.core.display.HTML object&gt;",
      "text/html": "<pre><span class=\"ansi-red-intense-fg ansi-bold\" style=\"color: red;font-weight: bold\">V</span>i<span class=\"ansi-red-intense-fg ansi-bold\" style=\"color: red;font-weight: bold\">rgi</span>n<span class=\"ansi-red-intense-fg ansi-bold\" style=\"color: red;font-weight: bold\">ia big-eared bat</span>\n\n<span class=\"ansi-red-fg\" style=\"color: red\">┌──────────────────────────────────┐\n│ Your output does not quite match │\n│ what the exercise is expecting:  │\n└──────────────────────────────────┘</span>\n<span class=\"ansi-green-intense-fg ansi-bold\" style=\"color: #4f4;font-weight: bold\">B</span>i<span class=\"ansi-green-intense-fg ansi-bold\" style=\"color: #4f4;font-weight: bold\">so</span>n\n\n</pre>"
     },
     "metadata": {},
     "execution_count": 4
    }
   ],
   "source": [
    "# Exercise 3\n",
    "import csv \n",
    "winner = ''\n",
    "file = open ('Data/state-animals.csv')\n",
    "for state, animal in csv.reader(file) :\n",
    "    if len (animal) > len (winner):\n",
    "        winner = animal \n",
    "print(winner) \n"
   ]
  },
  {
   "cell_type": "markdown",
   "metadata": {},
   "source": [
    "**Exercise 4.** Next,\n",
    "write a program that prints out the shortest animal name."
   ]
  },
  {
   "cell_type": "code",
   "execution_count": 5,
   "metadata": {
    "checks": "",
    "exercise_number": 4,
    "expected": "Orca\n",
    "tags": []
   },
   "outputs": [
    {
     "output_type": "execute_result",
     "data": {
      "text/plain": "&lt;IPython.core.display.HTML object&gt;",
      "text/html": "<pre>Orca\n\n<span class=\"ansi-green-fg\" style=\"color: #4f4\">┌────────────────────────────────────────────┐\n│ </span><span class=\"ansi-green-fg\" style=\"color: #4f4\">✔ Your output looks correct</span><span class=\"ansi-green-fg\" style=\"color: #4f4\">                │\n│                                            │\n│ Good job! You have completed this exercise │\n└────────────────────────────────────────────┘</span>\n</pre>"
     },
     "metadata": {},
     "execution_count": 5
    }
   ],
   "source": [
    "# Exercise 4\n",
    "import csv\n",
    "winner = 'Virginia big-eared bat'\n",
    "file = open ('Data/state-animals.csv')\n",
    "for state, animal in csv.reader(file) :\n",
    "    if len (animal) < len (winner) :\n",
    "        winner = animal \n",
    "print(winner)\n"
   ]
  },
  {
   "cell_type": "markdown",
   "metadata": {},
   "source": [
    "**Exercise 5.** Now let’s try something a little more complicated:\n",
    "write a program that not only prints out the shortest animal name,\n",
    "but then prints out the name of the state it belongs to."
   ]
  },
  {
   "cell_type": "code",
   "execution_count": 6,
   "metadata": {
    "checks": "",
    "exercise_number": 5,
    "expected": "Virginia big-eared bat\nVirginia\n",
    "tags": []
   },
   "outputs": [
    {
     "output_type": "execute_result",
     "data": {
      "text/plain": "&lt;IPython.core.display.HTML object&gt;",
      "text/html": "<pre><span class=\"ansi-yellow-fg\" style=\"color: #ff2\">Traceback (most recent call last):</span>\n  File &#34;c:\\Users\\zackj\\.vscode\\cps-108\\course_engine.py&#34;, line 199, in run_code\n    compiled = compile(source, name, &#39;exec&#39;)\n  File &#34;Exercise 5&#34;, line 7\n    \n    ^\n<span class=\"ansi-yellow-fg\" style=\"color: #ff2\">SyntaxError: unexpected EOF while parsing</span>\n\n</pre>"
     },
     "metadata": {},
     "execution_count": 6
    }
   ],
   "source": [
    "# Exercise 5\n",
    "import csv \n",
    "winner = 'North Carolina'\n",
    "file = open ('Data/state-animals.csv')\n",
    "for state, animal in csv.reader(file) :\n",
    "    \n",
    "       \n"
   ]
  },
  {
   "cell_type": "markdown",
   "metadata": {},
   "source": [
    "**Exercise 6.** Finally,\n",
    "write a program that prints out two states:\n",
    "first the state with the shortest name,\n",
    "then the state with the longest name."
   ]
  },
  {
   "cell_type": "code",
   "execution_count": 10,
   "metadata": {
    "checks": "",
    "exercise_number": 6,
    "expected": "Ohio\nNorth Carolina\n",
    "tags": []
   },
   "outputs": [
    {
     "output_type": "execute_result",
     "data": {
      "text/plain": "&lt;IPython.core.display.HTML object&gt;",
      "text/html": "<pre>Ohio\n\n<span class=\"ansi-red-fg\" style=\"color: red\">┌──────────────────────────────────┐\n│ Your output does not quite match │\n│ what the exercise is expecting:  │\n└──────────────────────────────────┘</span>\nOhio\n<span class=\"ansi-green-intense-fg ansi-bold\" style=\"color: #4f4;font-weight: bold\">North Carolina\n</span>\n</pre>"
     },
     "metadata": {},
     "execution_count": 10
    }
   ],
   "source": [
    "# Exercise 6\n",
    "import csv \n",
    "winner = 'North Carolina'\n",
    "file = open ('Data/state-animals.csv')\n",
    "for state, animal in csv.reader(file) :\n",
    "    if len (state) < len (winner) : \n",
    "       winner = state \n",
    "print(winner)\n",
    "\n"
   ]
  },
  {
   "cell_type": "code",
   "execution_count": null,
   "metadata": {},
   "outputs": [],
   "source": []
  }
 ],
 "metadata": {
  "kernelspec": {
   "name": "Python 3.8.6 64-bit",
   "display_name": "Python 3.8.6 64-bit",
   "metadata": {
    "interpreter": {
     "hash": "1055211a01a199a6526f0d26b382149a8a94758ea3cbdda7adbe114d72853fd0"
    }
   }
  },
  "language_info": {
   "codemirror_mode": {
    "name": "ipython",
    "version": 3
   },
   "file_extension": ".py",
   "mimetype": "text/x-python",
   "name": "python",
   "nbconvert_exporter": "python",
   "pygments_lexer": "ipython3",
   "version": "3.8.6-final"
  }
 },
 "nbformat": 4,
 "nbformat_minor": 4
}